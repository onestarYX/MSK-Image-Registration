{
 "cells": [
  {
   "cell_type": "code",
   "execution_count": 1,
   "metadata": {},
   "outputs": [],
   "source": [
    "import os, sys\n",
    "import numpy as np\n",
    "import tensorflow as tf\n",
    "import voxelmorph as vxm\n",
    "import neurite as ne\n",
    "import random"
   ]
  },
  {
   "cell_type": "code",
   "execution_count": 2,
   "metadata": {},
   "outputs": [
    {
     "name": "stdout",
     "output_type": "stream",
     "text": [
      "True\n",
      "[PhysicalDevice(name='/physical_device:GPU:0', device_type='GPU')]\n"
     ]
    }
   ],
   "source": [
    "print(tf.test.is_built_with_cuda())\n",
    "print(tf.config.list_physical_devices('GPU'))"
   ]
  },
  {
   "cell_type": "code",
   "execution_count": 3,
   "metadata": {},
   "outputs": [],
   "source": [
    "data_path = \"../MRNet/MRNet-v1.0/train/axial\"\n",
    "filelist = os.listdir(data_path)\n",
    "filelist.remove('.DS_Store')"
   ]
  },
  {
   "cell_type": "code",
   "execution_count": 4,
   "metadata": {},
   "outputs": [],
   "source": [
    "# Check the largest volume\n",
    "# max_slice = 0\n",
    "# for file in filelist:\n",
    "#     img = np.load(os.path.join(data_path, file))\n",
    "#     if img.shape[0] > max_slice:\n",
    "#         max_slice = img.shape[0]\n",
    "# print(max_slice)"
   ]
  },
  {
   "cell_type": "code",
   "execution_count": 5,
   "metadata": {},
   "outputs": [],
   "source": [
    "max_slice = 64\n",
    "slice_x = 256\n",
    "slice_y = 256"
   ]
  },
  {
   "cell_type": "code",
   "execution_count": 6,
   "metadata": {},
   "outputs": [],
   "source": [
    "def vxm_data_generator(filelist, batch_size=32):\n",
    "    \"\"\"\n",
    "    Generator that yields data for\n",
    "    our custom vxm model. Note that we need to provide numpy data for each\n",
    "    input, and each output.\n",
    "\n",
    "    inputs:  moving [bs, H, W, 1], fixed image [bs, H, W, 1]\n",
    "    outputs: moved image [bs, H, W, 1], zero-gradient [bs, H, W, 2]\n",
    "    \"\"\"\n",
    "    fixed_img_paths = random.choices(filelist, k=batch_size)\n",
    "    moving_img_paths = random.choices(filelist, k=batch_size)\n",
    "\n",
    "    fixed_img_list = []\n",
    "    for fixed_img_path in fixed_img_paths:\n",
    "        fixed_img = np.load(os.path.join(data_path, fixed_img_path))\n",
    "        num_slice_to_pad = max_slice - fixed_img.shape[0]\n",
    "        fixed_img = np.pad(fixed_img, ((0, num_slice_to_pad), (0, 0), (0, 0)), 'constant')\n",
    "        fixed_img_list.append(fixed_img)\n",
    "    \n",
    "    moving_img_list = []\n",
    "    for moving_img_path in moving_img_paths:\n",
    "        moving_img = np.load(os.path.join(data_path, moving_img_path))\n",
    "        num_slice_to_pad = max_slice - moving_img.shape[0]\n",
    "        moving_img = np.pad(moving_img, ((0, num_slice_to_pad), (0, 0), (0, 0)), 'constant')\n",
    "        moving_img_list.append(moving_img)\n",
    "\n",
    "    fixed_images = np.array(fixed_img_list) / 255.0\n",
    "    fixed_images = np.expand_dims(fixed_images, -1)\n",
    "    moving_images = np.array(moving_img_list) / 255.0\n",
    "    moving_images = np.expand_dims(moving_images, -1)\n",
    "\n",
    "    vol_shape = (max_slice, slice_x, slice_y)\n",
    "    ndims = len(vol_shape)\n",
    "    \n",
    "    # prepare a zero array the size of the deformation\n",
    "    zero_phi = np.zeros([batch_size, *vol_shape, ndims])\n",
    "    \n",
    "    while True:\n",
    "        # prepare inputs:\n",
    "        # images need to be of the size [batch_size, H, W, 1]\n",
    "        \n",
    "        inputs = [moving_images, fixed_images]\n",
    "        \n",
    "        # prepare outputs (the 'true' moved image):\n",
    "        # of course, we don't have this, but we know we want to compare \n",
    "        # the resulting moved image with the fixed image. \n",
    "        # we also wish to penalize the deformation field. \n",
    "        outputs = [fixed_images, zero_phi]\n",
    "    \n",
    "        yield (inputs, outputs)"
   ]
  },
  {
   "cell_type": "code",
   "execution_count": 7,
   "metadata": {},
   "outputs": [],
   "source": [
    "train_generator = vxm_data_generator(filelist, 1)\n",
    "in_sample, out_sample = next(train_generator)"
   ]
  },
  {
   "cell_type": "code",
   "execution_count": 8,
   "metadata": {},
   "outputs": [
    {
     "data": {
      "image/png": "[encoded data removed]",
      "text/plain": [
       "<Figure size 1080x270 with 8 Axes>"
      ]
     },
     "metadata": {
      "needs_background": "light"
     },
     "output_type": "display_data"
    },
    {
     "data": {
      "text/plain": [
       "(<Figure size 1080x270 with 8 Axes>,\n",
       " array([<AxesSubplot:title={'center':'moving'}>,\n",
       "        <AxesSubplot:title={'center':'fixed'}>,\n",
       "        <AxesSubplot:title={'center':'moved ground-truth (fixed)'}>,\n",
       "        <AxesSubplot:title={'center':'zeros'}>], dtype=object))"
      ]
     },
     "execution_count": 8,
     "metadata": {},
     "output_type": "execute_result"
    }
   ],
   "source": [
    "# visualize\n",
    "images = [img[0, 32, :, :, 0] for img in in_sample + out_sample] \n",
    "titles = ['moving', 'fixed', 'moved ground-truth (fixed)', 'zeros']\n",
    "ne.plot.slices(images, titles=titles, cmaps=['gray'], do_colorbars=True)"
   ]
  },
  {
   "cell_type": "code",
   "execution_count": 9,
   "metadata": {},
   "outputs": [
    {
     "name": "stdout",
     "output_type": "stream",
     "text": [
      "WARNING:tensorflow:From C:\\Users\\Yixing\\Anaconda3\\envs\\msk-image-registration\\lib\\site-packages\\tensorflow\\python\\util\\deprecation.py:620: calling map_fn_v2 (from tensorflow.python.ops.map_fn) with dtype is deprecated and will be removed in a future version.\n",
      "Instructions for updating:\n",
      "Use fn_output_signature instead\n"
     ]
    }
   ],
   "source": [
    "# configure unet features \n",
    "nb_features = [\n",
    "    [32, 32, 32, 32],         # encoder features\n",
    "    [32, 32, 32, 32, 32, 16]  # decoder features\n",
    "]\n",
    "\n",
    "vol_shape = (max_slice, slice_x, slice_y)\n",
    "vxm_model = vxm.networks.VxmDense(vol_shape, nb_features, int_steps=0)"
   ]
  },
  {
   "cell_type": "code",
   "execution_count": 10,
   "metadata": {},
   "outputs": [],
   "source": [
    "losses = [vxm.losses.MSE().loss, vxm.losses.Grad('l2').loss]\n",
    "\n",
    "# usually, we have to balance the two losses by a hyper-parameter\n",
    "lambda_param = 0.05\n",
    "loss_weights = [1, lambda_param]"
   ]
  },
  {
   "cell_type": "code",
   "execution_count": 11,
   "metadata": {},
   "outputs": [],
   "source": [
    "vxm_model.compile(optimizer='Adam', loss=losses, loss_weights=loss_weights)"
   ]
  },
  {
   "cell_type": "code",
   "execution_count": 12,
   "metadata": {},
   "outputs": [
    {
     "name": "stdout",
     "output_type": "stream",
     "text": [
      "../model_cp\n"
     ]
    }
   ],
   "source": [
    "checkpoint_path = \"../model_cp/cp.ckpt\"\n",
    "checkpoint_dir = os.path.dirname(checkpoint_path)\n",
    "print(checkpoint_dir)\n",
    "\n",
    "# Create a callback that saves the model's weights\n",
    "cp_callback = tf.keras.callbacks.ModelCheckpoint(filepath=checkpoint_path,\n",
    "                                                 save_weights_only=True)"
   ]
  },
  {
   "cell_type": "code",
   "execution_count": null,
   "metadata": {},
   "outputs": [
    {
     "name": "stdout",
     "output_type": "stream",
     "text": [
      "Epoch 1/10\n"
     ]
    },
    {
     "name": "stderr",
     "output_type": "stream",
     "text": [
      "C:\\Users\\Yixing\\AppData\\Local\\Temp/ipykernel_6432/3659163062.py:3: UserWarning: `Model.fit_generator` is deprecated and will be removed in a future version. Please use `Model.fit`, which supports generators.\n",
      "  hist = vxm_model.fit_generator(train_generator, epochs=nb_epochs, steps_per_epoch=steps_per_epoch, verbose=2)\n"
     ]
    }
   ],
   "source": [
    "nb_epochs = 10\n",
    "steps_per_epoch = 100\n",
    "hist = vxm_model.fit_generator(train_generator, epochs=nb_epochs, steps_per_epoch=steps_per_epoch, verbose=2)"
   ]
  },
  {
   "cell_type": "code",
   "execution_count": null,
   "metadata": {},
   "outputs": [],
   "source": []
  }
 ],
 "metadata": {
  "interpreter": {
   "hash": "f986c902ef31d1b0ffb55da158cf6f70bbc11f074ea6d5c6624fb88e98d9aaa4"
  },
  "kernelspec": {
   "display_name": "Python 3 (ipykernel)",
   "language": "python",
   "name": "python3"
  },
  "language_info": {
   "codemirror_mode": {
    "name": "ipython",
    "version": 3
   },
   "file_extension": ".py",
   "mimetype": "text/x-python",
   "name": "python",
   "nbconvert_exporter": "python",
   "pygments_lexer": "ipython3",
   "version": "3.9.7"
  }
 },
 "nbformat": 4,
 "nbformat_minor": 2
}
