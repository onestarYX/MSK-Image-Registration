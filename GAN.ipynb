{
 "cells": [
  {
   "cell_type": "code",
   "execution_count": 1,
   "metadata": {},
   "outputs": [],
   "source": [
    "import os\n",
    "import csv\n",
    "import numpy as np\n",
    "import matplotlib.pyplot as plt\n",
    "import scipy\n",
    "\n",
    "import tensorflow as tf\n",
    "from tensorflow import keras\n",
    "from tensorflow.keras import layers\n",
    "from tensorflow.keras import backend as K\n",
    "from tensorflow.keras.callbacks import ModelCheckpoint\n",
    "\n",
    "import random"
   ]
  },
  {
   "cell_type": "code",
   "execution_count": 2,
   "metadata": {},
   "outputs": [],
   "source": [
    "import layers as custom_layers"
   ]
  },
  {
   "cell_type": "code",
   "execution_count": 3,
   "metadata": {},
   "outputs": [
    {
     "name": "stdout",
     "output_type": "stream",
     "text": [
      "Num GPUs Available:  1\n"
     ]
    }
   ],
   "source": [
    "# We renamed cusolver64_11.dll to cusolver64_10.dll to solve the compatibility issue.\n",
    "print(\"Num GPUs Available: \", len(tf.config.list_physical_devices('GPU')))"
   ]
  },
  {
   "cell_type": "code",
   "execution_count": 4,
   "metadata": {},
   "outputs": [],
   "source": [
    "# File Paths\n",
    "imgIdxCsvPath = './MRNet/MRNet-v1.0/similar.csv'\n",
    "MRI_Path = './MRNet/MRNet-v1.0/train/axial/{}.npy'"
   ]
  },
  {
   "cell_type": "markdown",
   "metadata": {},
   "source": [
    "## Load self-generated training data (by data loaders)"
   ]
  },
  {
   "cell_type": "markdown",
   "metadata": {},
   "source": [
    "### Duplicate fixed image as labels"
   ]
  },
  {
   "cell_type": "code",
   "execution_count": 5,
   "metadata": {},
   "outputs": [],
   "source": [
    "bs = 1"
   ]
  },
  {
   "cell_type": "code",
   "execution_count": 6,
   "metadata": {},
   "outputs": [],
   "source": [
    "trainDataPath = \"./affineTrainingData/affine{}.npz\"\n",
    "trainDataSize = 200\n",
    "fixedImg = np.load(MRI_Path.format(\"0701\"))\n",
    "fixedImg = fixedImg / np.max(fixedImg)\n",
    "fixedImg = fixedImg.astype('float32')\n",
    "fixedImg = np.expand_dims(fixedImg, axis=-1)\n",
    "\n",
    "def img_pair_input_gen(batch_size = bs):\n",
    "    while True:\n",
    "        imgPair_batch = np.zeros((batch_size, *fixedImg.shape[:-1], 2))\n",
    "        # fixedImg_batch = np.zeros((batch_size, *fixedImg.shape))\n",
    "        # tgtAffineTrf_batch = np.zeros((batch_size, 12))\n",
    "        for i in range(batch_size):\n",
    "            idx = random.randrange(trainDataSize)\n",
    "            inputObj = np.load(trainDataPath.format(idx))\n",
    "            movingImg = inputObj['img']\n",
    "            movingImg = np.expand_dims(movingImg, axis=-1)\n",
    "            movingImg = movingImg.astype('float32')\n",
    "            imgPair = np.concatenate([movingImg, fixedImg], axis=3)\n",
    "            imgPair_batch[i] = imgPair\n",
    "\n",
    "            # tgtAffineTrf = inputObj['trf']\n",
    "            # tgtAffineTrf = tgtAffineTrf.astype('float32')\n",
    "            # tgtAffineTrf_batch[i] = tgtAffineTrf\n",
    "            # fixedImg_batch[i] = fixedImg\n",
    "        \n",
    "        yield imgPair_batch\n",
    "\n",
    "\n",
    "def gt_fixed_img_input_gen(batch_size = bs):\n",
    "    while True:\n",
    "        fixedImg_batch = np.zeros((batch_size, *fixedImg.shape))\n",
    "        for i in range(batch_size):\n",
    "            fixedImg_batch[i] = fixedImg\n",
    "        \n",
    "        yield fixedImg_batch"
   ]
  },
  {
   "cell_type": "code",
   "execution_count": 7,
   "metadata": {},
   "outputs": [],
   "source": [
    "img_pair_input = img_pair_input_gen()\n",
    "gt_fixed_img_input = gt_fixed_img_input_gen()"
   ]
  },
  {
   "cell_type": "markdown",
   "metadata": {},
   "source": [
    "## Define the generator"
   ]
  },
  {
   "cell_type": "code",
   "execution_count": 9,
   "metadata": {
    "scrolled": false
   },
   "outputs": [],
   "source": [
    "def make_generator(lrelu_alpha=0.3):\n",
    "    def conv_activation(inputs):\n",
    "        outputs = layers.BatchNormalization()(inputs)\n",
    "        outputs = layers.LeakyReLU(alpha=lrelu_alpha)(outputs)\n",
    "        return outputs\n",
    "\n",
    "    inputs = keras.Input(shape = (*fixedImg.shape[:-1], 2))\n",
    "    moving_input = tf.expand_dims(inputs[:, :, :, :, 0], axis = -1)\n",
    "    # fixed_input = tf.expand_dims(inputs[:, :, :, :, 1], axis = -1)\n",
    "\n",
    "    down_depths = [32, 64, 128, 512]\n",
    "    up_depths = [512, 128, 64, 32, 3]\n",
    "\n",
    "    # Down-sampling path\n",
    "    x = layers.Conv3D(filters=down_depths[0], kernel_size=(7, 15, 15), strides=(1, 1, 1), padding=\"same\", activation=layers.LeakyReLU())(inputs)\n",
    "    x = layers.MaxPool3D((1, 2, 2), padding=\"same\")(x)\n",
    "    print(\"0: {}\".format(x.shape))\n",
    "\n",
    "    x = layers.Conv3D(filters=down_depths[1], kernel_size=(3, 3, 3), strides=(1, 2, 2), padding=\"same\")(x)\n",
    "    x = conv_activation(x)\n",
    "    x = layers.Conv3D(filters=down_depths[1], kernel_size=(3, 3, 3), strides=(1, 1, 1), padding=\"same\")(x)\n",
    "    x = conv_activation(x)\n",
    "    print(\"1: {}\".format(x.shape))\n",
    "\n",
    "    x = layers.Conv3D(filters=down_depths[2], kernel_size=(3, 3, 3), strides=(2, 2, 2), padding=\"same\")(x)\n",
    "    x = conv_activation(x)\n",
    "    x = layers.Conv3D(filters=down_depths[2], kernel_size=(3, 3, 3), strides=(1, 1, 1), padding=\"same\")(x)\n",
    "    x = conv_activation(x)\n",
    "    print(\"2: {}\".format(x.shape))\n",
    "\n",
    "    x = layers.Conv3D(filters=down_depths[3], kernel_size=(3, 3, 3), strides=(2, 2, 2), padding=\"same\")(x)\n",
    "    x = conv_activation(x)\n",
    "    x = layers.Conv3D(filters=down_depths[3], kernel_size=(3, 3, 3), strides=(1, 1, 1), padding=\"same\")(x)\n",
    "    x = conv_activation(x)\n",
    "    print(\"3: {}\".format(x.shape))\n",
    "\n",
    "\n",
    "    # Up-sampling path\n",
    "    x = layers.Conv3DTranspose(filters=up_depths[0], kernel_size=(3, 3, 3), strides=(2, 2, 2), padding=\"same\")(x)\n",
    "    x = conv_activation(x)\n",
    "    x = layers.Conv3D(filters=up_depths[0], kernel_size=(3, 3, 3), strides=(1, 1, 1), padding=\"same\")(x)\n",
    "    print(\"4: {}\".format(x.shape))\n",
    "\n",
    "    x = layers.Conv3DTranspose(filters=up_depths[1], kernel_size=(3, 3, 3), strides=(2, 2, 2), padding=\"same\")(x)\n",
    "    x = conv_activation(x)\n",
    "    x = layers.Conv3D(filters=up_depths[1], kernel_size=(3, 3, 3), strides=(1, 1, 1), padding=\"same\")(x)\n",
    "    print(\"5: {}\".format(x.shape))\n",
    "\n",
    "    x = layers.Conv3DTranspose(filters=up_depths[2], kernel_size=(3, 3, 3), strides=(1, 2, 2), padding=\"same\")(x)\n",
    "    x = conv_activation(x)\n",
    "    x = layers.Conv3D(filters=up_depths[2], kernel_size=(3, 3, 3), strides=(1, 1, 1), padding=\"same\")(x)\n",
    "    print(\"6: {}\".format(x.shape))\n",
    "\n",
    "\n",
    "    x = layers.Conv3DTranspose(filters=up_depths[3], kernel_size=(3, 3, 3), strides=(1, 2, 2), padding=\"same\")(x)\n",
    "    x = conv_activation(x)\n",
    "    x = layers.Conv3D(filters=up_depths[3], kernel_size=(3, 3, 3), strides=(1, 1, 1), padding=\"same\")(x)\n",
    "    print(\"7: {}\".format(x.shape))\n",
    "\n",
    "    deformation_field_pred = layers.Conv3D(filters=up_depths[4], kernel_size=(3, 3, 3), strides=(1, 1, 1), padding=\"same\")(x)\n",
    "    print(\"8: {}\".format(x.shape))\n",
    "\n",
    "    # affine_warped = custom_layers.SpatialTransformer(interp_method='linear', add_identity=False, name=\"warped_image\", shift_center=True)([moving_input, affine_pred])\n",
    "    deformable_warped = custom_layers.SpatialTransformer(interp_method='linear', add_identity=False, name=\"warped_image\", shift_center=True)([moving_input, deformation_field_pred])\n",
    "\n",
    "    model = keras.Model(inputs=inputs, outputs=deformable_warped, name=\"generator_model\")\n",
    "#     model.summary()\n",
    "\n",
    "    return model"
   ]
  },
  {
   "cell_type": "code",
   "execution_count": 10,
   "metadata": {},
   "outputs": [
    {
     "name": "stdout",
     "output_type": "stream",
     "text": [
      "0: (None, 52, 128, 128, 32)\n",
      "1: (None, 52, 64, 64, 64)\n",
      "2: (None, 26, 32, 32, 128)\n",
      "3: (None, 13, 16, 16, 512)\n",
      "4: (None, 26, 32, 32, 512)\n",
      "5: (None, 52, 64, 64, 128)\n",
      "6: (None, 52, 128, 128, 64)\n",
      "7: (None, 52, 256, 256, 32)\n",
      "8: (None, 52, 256, 256, 32)\n",
      "WARNING:tensorflow:From D:\\Programs\\Anaconda\\envs\\msk_img_registration\\lib\\site-packages\\tensorflow\\python\\util\\deprecation.py:605: calling map_fn_v2 (from tensorflow.python.ops.map_fn) with dtype is deprecated and will be removed in a future version.\n",
      "Instructions for updating:\n",
      "Use fn_output_signature instead\n"
     ]
    }
   ],
   "source": [
    "generator = make_generator()"
   ]
  },
  {
   "cell_type": "markdown",
   "metadata": {},
   "source": [
    "## Define the discriminator"
   ]
  },
  {
   "cell_type": "code",
   "execution_count": 11,
   "metadata": {},
   "outputs": [],
   "source": [
    "def make_discriminator(lrelu_alpha=0.3, drop_out_rate=0.2):\n",
    "    def conv_activation(inputs):\n",
    "        outputs = layers.BatchNormalization()(inputs)\n",
    "        outputs = layers.LeakyReLU(alpha=lrelu_alpha)(outputs)\n",
    "        outputs = layers.Dropout(drop_out_rate)(outputs)\n",
    "        return outputs\n",
    "    \n",
    "    inputs = keras.Input(shape = fixedImg.shape)\n",
    "\n",
    "    x = layers.Conv3D(filters=32, kernel_size=(7, 15, 15), strides=(1, 2, 2), padding=\"same\")(inputs)\n",
    "    x = conv_activation(x)\n",
    "\n",
    "    x = layers.Conv3D(filters=64, kernel_size=(5, 5, 5), strides=(1, 2, 2), padding=\"same\")(x)\n",
    "    x = conv_activation(x)\n",
    "\n",
    "    x = layers.Conv3D(filters=128, kernel_size=(5, 5, 5), strides=(2, 2, 2), padding=\"same\")(x)\n",
    "    x = conv_activation(x)\n",
    "\n",
    "    x = layers.Conv3D(filters=256, kernel_size=(5, 5, 5), strides=(2, 2, 2), padding=\"same\")(x)\n",
    "    x = conv_activation(x)\n",
    "\n",
    "    x = layers.Conv3D(filters=512, kernel_size=(5, 5, 5), strides=(2, 2, 2), padding=\"same\")(x)\n",
    "    x = conv_activation(x)\n",
    "\n",
    "    x = layers.AveragePooling3D((2, 2, 2))(x)\n",
    "    print(x.shape)\n",
    "    x = layers.Flatten()(x)\n",
    "    x = layers.Dense(128)(x)\n",
    "    x = conv_activation(x)\n",
    "    x = layers.Dense(32)(x)\n",
    "    x = conv_activation(x)\n",
    "    pred = layers.Dense(1)(x)\n",
    "    \n",
    "    model = keras.Model(inputs=inputs, outputs=pred, name=\"discriminator_model\")\n",
    "#     model.summary()\n",
    "\n",
    "    return model\n",
    "    "
   ]
  },
  {
   "cell_type": "code",
   "execution_count": 12,
   "metadata": {},
   "outputs": [
    {
     "name": "stdout",
     "output_type": "stream",
     "text": [
      "(None, 3, 4, 4, 512)\n"
     ]
    }
   ],
   "source": [
    "discriminator = make_discriminator()"
   ]
  },
  {
   "cell_type": "code",
   "execution_count": 13,
   "metadata": {},
   "outputs": [],
   "source": [
    "# This method returns a helper function to compute cross entropy loss\n",
    "cross_entropy = tf.keras.losses.BinaryCrossentropy(from_logits=True)"
   ]
  },
  {
   "cell_type": "code",
   "execution_count": 14,
   "metadata": {},
   "outputs": [],
   "source": [
    "def discriminator_loss(real_output, fake_output):\n",
    "    real_loss = cross_entropy(tf.ones_like(real_output), real_output)\n",
    "    fake_loss = cross_entropy(tf.zeros_like(fake_output), fake_output)\n",
    "    total_loss = real_loss + fake_loss\n",
    "    return total_loss"
   ]
  },
  {
   "cell_type": "code",
   "execution_count": 15,
   "metadata": {},
   "outputs": [],
   "source": [
    "def generator_loss(fake_output):\n",
    "    return cross_entropy(tf.ones_like(fake_output), fake_output)"
   ]
  },
  {
   "cell_type": "code",
   "execution_count": 16,
   "metadata": {},
   "outputs": [],
   "source": [
    "lr = 1e-4\n",
    "generator_optimizer = tf.keras.optimizers.Adam(lr)\n",
    "discriminator_optimizer = tf.keras.optimizers.Adam(lr)"
   ]
  },
  {
   "cell_type": "code",
   "execution_count": 17,
   "metadata": {},
   "outputs": [],
   "source": [
    "checkpoint_dir = './GAN_checkpoints'\n",
    "checkpoint_prefix = os.path.join(checkpoint_dir, \"ckpt\")\n",
    "checkpoint = tf.train.Checkpoint(generator_optimizer=generator_optimizer,\n",
    "                                 discriminator_optimizer=discriminator_optimizer,\n",
    "                                 generator=generator,\n",
    "                                 discriminator=discriminator)"
   ]
  },
  {
   "cell_type": "code",
   "execution_count": 18,
   "metadata": {},
   "outputs": [],
   "source": [
    "@tf.function\n",
    "def train_step(gt_fixed_images):\n",
    "    with tf.GradientTape() as gen_tape, tf.GradientTape() as disc_tape:\n",
    "      generated_images = generator(next(img_pair_input), training=True)\n",
    "\n",
    "      real_output = discriminator(gt_fixed_images, training=True)\n",
    "      fake_output = discriminator(generated_images, training=True)\n",
    "\n",
    "      gen_loss = generator_loss(fake_output)\n",
    "      disc_loss = discriminator_loss(real_output, fake_output)\n",
    "\n",
    "    gradients_of_generator = gen_tape.gradient(gen_loss, generator.trainable_variables)\n",
    "    gradients_of_discriminator = disc_tape.gradient(disc_loss, discriminator.trainable_variables)\n",
    "\n",
    "    generator_optimizer.apply_gradients(zip(gradients_of_generator, generator.trainable_variables))\n",
    "    discriminator_optimizer.apply_gradients(zip(gradients_of_discriminator, discriminator.trainable_variables))"
   ]
  },
  {
   "cell_type": "code",
   "execution_count": 19,
   "metadata": {},
   "outputs": [],
   "source": [
    "def train(epochs, steps_per_epoch):\n",
    "    for epoch in range(epochs):\n",
    "        for step in range(steps_per_epoch):\n",
    "            gt_fixed_img = next(gt_fixed_img_input)\n",
    "            train_step(gt_fixed_img)\n",
    "\n",
    "        # Save the model every 15 epochs\n",
    "        if (epoch + 1) % 5 == 0:\n",
    "            checkpoint.save(file_prefix = checkpoint_prefix)\n",
    "            \n",
    "        print(\"Epoch {} finished\".format(epoch))"
   ]
  },
  {
   "cell_type": "code",
   "execution_count": 20,
   "metadata": {},
   "outputs": [
    {
     "ename": "ResourceExhaustedError",
     "evalue": " OOM when allocating tensor with shape[1,64,52,128,128] and type float on /job:localhost/replica:0/task:0/device:GPU:0 by allocator GPU_0_bfc\n\t [[node generator_model/conv3d_9/Conv3D (defined at <ipython-input-18-ece6db4c675b>:4) ]]\nHint: If you want to see a list of allocated tensors when OOM happens, add report_tensor_allocations_upon_oom to RunOptions for current allocation info.\n [Op:__inference_train_step_15228]\n\nFunction call stack:\ntrain_step\n",
     "output_type": "error",
     "traceback": [
      "\u001b[1;31m---------------------------------------------------------------------------\u001b[0m",
      "\u001b[1;31mResourceExhaustedError\u001b[0m                    Traceback (most recent call last)",
      "\u001b[1;32m<ipython-input-20-c11bbfc02ec9>\u001b[0m in \u001b[0;36m<module>\u001b[1;34m\u001b[0m\n\u001b[0;32m      1\u001b[0m \u001b[0mepochs\u001b[0m \u001b[1;33m=\u001b[0m \u001b[1;36m50\u001b[0m\u001b[1;33m\u001b[0m\u001b[1;33m\u001b[0m\u001b[0m\n\u001b[0;32m      2\u001b[0m \u001b[0msteps_per_epoch\u001b[0m \u001b[1;33m=\u001b[0m \u001b[0mint\u001b[0m\u001b[1;33m(\u001b[0m\u001b[0mtrainDataSize\u001b[0m \u001b[1;33m/\u001b[0m \u001b[0mbs\u001b[0m\u001b[1;33m)\u001b[0m\u001b[1;33m\u001b[0m\u001b[1;33m\u001b[0m\u001b[0m\n\u001b[1;32m----> 3\u001b[1;33m \u001b[0mtrain\u001b[0m\u001b[1;33m(\u001b[0m\u001b[0mepochs\u001b[0m\u001b[1;33m,\u001b[0m \u001b[0msteps_per_epoch\u001b[0m\u001b[1;33m)\u001b[0m\u001b[1;33m\u001b[0m\u001b[1;33m\u001b[0m\u001b[0m\n\u001b[0m",
      "\u001b[1;32m<ipython-input-19-cbda2b929d0e>\u001b[0m in \u001b[0;36mtrain\u001b[1;34m(epochs, steps_per_epoch)\u001b[0m\n\u001b[0;32m      3\u001b[0m         \u001b[1;32mfor\u001b[0m \u001b[0mstep\u001b[0m \u001b[1;32min\u001b[0m \u001b[0mrange\u001b[0m\u001b[1;33m(\u001b[0m\u001b[0msteps_per_epoch\u001b[0m\u001b[1;33m)\u001b[0m\u001b[1;33m:\u001b[0m\u001b[1;33m\u001b[0m\u001b[1;33m\u001b[0m\u001b[0m\n\u001b[0;32m      4\u001b[0m             \u001b[0mgt_fixed_img\u001b[0m \u001b[1;33m=\u001b[0m \u001b[0mnext\u001b[0m\u001b[1;33m(\u001b[0m\u001b[0mgt_fixed_img_input\u001b[0m\u001b[1;33m)\u001b[0m\u001b[1;33m\u001b[0m\u001b[1;33m\u001b[0m\u001b[0m\n\u001b[1;32m----> 5\u001b[1;33m             \u001b[0mtrain_step\u001b[0m\u001b[1;33m(\u001b[0m\u001b[0mgt_fixed_img\u001b[0m\u001b[1;33m)\u001b[0m\u001b[1;33m\u001b[0m\u001b[1;33m\u001b[0m\u001b[0m\n\u001b[0m\u001b[0;32m      6\u001b[0m \u001b[1;33m\u001b[0m\u001b[0m\n\u001b[0;32m      7\u001b[0m         \u001b[1;31m# Save the model every 15 epochs\u001b[0m\u001b[1;33m\u001b[0m\u001b[1;33m\u001b[0m\u001b[1;33m\u001b[0m\u001b[0m\n",
      "\u001b[1;32mD:\\Programs\\Anaconda\\envs\\msk_img_registration\\lib\\site-packages\\tensorflow\\python\\eager\\def_function.py\u001b[0m in \u001b[0;36m__call__\u001b[1;34m(self, *args, **kwds)\u001b[0m\n\u001b[0;32m    826\u001b[0m     \u001b[0mtracing_count\u001b[0m \u001b[1;33m=\u001b[0m \u001b[0mself\u001b[0m\u001b[1;33m.\u001b[0m\u001b[0mexperimental_get_tracing_count\u001b[0m\u001b[1;33m(\u001b[0m\u001b[1;33m)\u001b[0m\u001b[1;33m\u001b[0m\u001b[1;33m\u001b[0m\u001b[0m\n\u001b[0;32m    827\u001b[0m     \u001b[1;32mwith\u001b[0m \u001b[0mtrace\u001b[0m\u001b[1;33m.\u001b[0m\u001b[0mTrace\u001b[0m\u001b[1;33m(\u001b[0m\u001b[0mself\u001b[0m\u001b[1;33m.\u001b[0m\u001b[0m_name\u001b[0m\u001b[1;33m)\u001b[0m \u001b[1;32mas\u001b[0m \u001b[0mtm\u001b[0m\u001b[1;33m:\u001b[0m\u001b[1;33m\u001b[0m\u001b[1;33m\u001b[0m\u001b[0m\n\u001b[1;32m--> 828\u001b[1;33m       \u001b[0mresult\u001b[0m \u001b[1;33m=\u001b[0m \u001b[0mself\u001b[0m\u001b[1;33m.\u001b[0m\u001b[0m_call\u001b[0m\u001b[1;33m(\u001b[0m\u001b[1;33m*\u001b[0m\u001b[0margs\u001b[0m\u001b[1;33m,\u001b[0m \u001b[1;33m**\u001b[0m\u001b[0mkwds\u001b[0m\u001b[1;33m)\u001b[0m\u001b[1;33m\u001b[0m\u001b[1;33m\u001b[0m\u001b[0m\n\u001b[0m\u001b[0;32m    829\u001b[0m       \u001b[0mcompiler\u001b[0m \u001b[1;33m=\u001b[0m \u001b[1;34m\"xla\"\u001b[0m \u001b[1;32mif\u001b[0m \u001b[0mself\u001b[0m\u001b[1;33m.\u001b[0m\u001b[0m_experimental_compile\u001b[0m \u001b[1;32melse\u001b[0m \u001b[1;34m\"nonXla\"\u001b[0m\u001b[1;33m\u001b[0m\u001b[1;33m\u001b[0m\u001b[0m\n\u001b[0;32m    830\u001b[0m       \u001b[0mnew_tracing_count\u001b[0m \u001b[1;33m=\u001b[0m \u001b[0mself\u001b[0m\u001b[1;33m.\u001b[0m\u001b[0mexperimental_get_tracing_count\u001b[0m\u001b[1;33m(\u001b[0m\u001b[1;33m)\u001b[0m\u001b[1;33m\u001b[0m\u001b[1;33m\u001b[0m\u001b[0m\n",
      "\u001b[1;32mD:\\Programs\\Anaconda\\envs\\msk_img_registration\\lib\\site-packages\\tensorflow\\python\\eager\\def_function.py\u001b[0m in \u001b[0;36m_call\u001b[1;34m(self, *args, **kwds)\u001b[0m\n\u001b[0;32m    886\u001b[0m         \u001b[1;31m# Lifting succeeded, so variables are initialized and we can run the\u001b[0m\u001b[1;33m\u001b[0m\u001b[1;33m\u001b[0m\u001b[1;33m\u001b[0m\u001b[0m\n\u001b[0;32m    887\u001b[0m         \u001b[1;31m# stateless function.\u001b[0m\u001b[1;33m\u001b[0m\u001b[1;33m\u001b[0m\u001b[1;33m\u001b[0m\u001b[0m\n\u001b[1;32m--> 888\u001b[1;33m         \u001b[1;32mreturn\u001b[0m \u001b[0mself\u001b[0m\u001b[1;33m.\u001b[0m\u001b[0m_stateless_fn\u001b[0m\u001b[1;33m(\u001b[0m\u001b[1;33m*\u001b[0m\u001b[0margs\u001b[0m\u001b[1;33m,\u001b[0m \u001b[1;33m**\u001b[0m\u001b[0mkwds\u001b[0m\u001b[1;33m)\u001b[0m\u001b[1;33m\u001b[0m\u001b[1;33m\u001b[0m\u001b[0m\n\u001b[0m\u001b[0;32m    889\u001b[0m     \u001b[1;32melse\u001b[0m\u001b[1;33m:\u001b[0m\u001b[1;33m\u001b[0m\u001b[1;33m\u001b[0m\u001b[0m\n\u001b[0;32m    890\u001b[0m       \u001b[0m_\u001b[0m\u001b[1;33m,\u001b[0m \u001b[0m_\u001b[0m\u001b[1;33m,\u001b[0m \u001b[0m_\u001b[0m\u001b[1;33m,\u001b[0m \u001b[0mfiltered_flat_args\u001b[0m \u001b[1;33m=\u001b[0m\u001b[0;31m \u001b[0m\u001b[0;31m\\\u001b[0m\u001b[1;33m\u001b[0m\u001b[1;33m\u001b[0m\u001b[0m\n",
      "\u001b[1;32mD:\\Programs\\Anaconda\\envs\\msk_img_registration\\lib\\site-packages\\tensorflow\\python\\eager\\function.py\u001b[0m in \u001b[0;36m__call__\u001b[1;34m(self, *args, **kwargs)\u001b[0m\n\u001b[0;32m   2940\u001b[0m       (graph_function,\n\u001b[0;32m   2941\u001b[0m        filtered_flat_args) = self._maybe_define_function(args, kwargs)\n\u001b[1;32m-> 2942\u001b[1;33m     return graph_function._call_flat(\n\u001b[0m\u001b[0;32m   2943\u001b[0m         filtered_flat_args, captured_inputs=graph_function.captured_inputs)  # pylint: disable=protected-access\n\u001b[0;32m   2944\u001b[0m \u001b[1;33m\u001b[0m\u001b[0m\n",
      "\u001b[1;32mD:\\Programs\\Anaconda\\envs\\msk_img_registration\\lib\\site-packages\\tensorflow\\python\\eager\\function.py\u001b[0m in \u001b[0;36m_call_flat\u001b[1;34m(self, args, captured_inputs, cancellation_manager)\u001b[0m\n\u001b[0;32m   1916\u001b[0m         and executing_eagerly):\n\u001b[0;32m   1917\u001b[0m       \u001b[1;31m# No tape is watching; skip to running the function.\u001b[0m\u001b[1;33m\u001b[0m\u001b[1;33m\u001b[0m\u001b[1;33m\u001b[0m\u001b[0m\n\u001b[1;32m-> 1918\u001b[1;33m       return self._build_call_outputs(self._inference_function.call(\n\u001b[0m\u001b[0;32m   1919\u001b[0m           ctx, args, cancellation_manager=cancellation_manager))\n\u001b[0;32m   1920\u001b[0m     forward_backward = self._select_forward_and_backward_functions(\n",
      "\u001b[1;32mD:\\Programs\\Anaconda\\envs\\msk_img_registration\\lib\\site-packages\\tensorflow\\python\\eager\\function.py\u001b[0m in \u001b[0;36mcall\u001b[1;34m(self, ctx, args, cancellation_manager)\u001b[0m\n\u001b[0;32m    553\u001b[0m       \u001b[1;32mwith\u001b[0m \u001b[0m_InterpolateFunctionError\u001b[0m\u001b[1;33m(\u001b[0m\u001b[0mself\u001b[0m\u001b[1;33m)\u001b[0m\u001b[1;33m:\u001b[0m\u001b[1;33m\u001b[0m\u001b[1;33m\u001b[0m\u001b[0m\n\u001b[0;32m    554\u001b[0m         \u001b[1;32mif\u001b[0m \u001b[0mcancellation_manager\u001b[0m \u001b[1;32mis\u001b[0m \u001b[1;32mNone\u001b[0m\u001b[1;33m:\u001b[0m\u001b[1;33m\u001b[0m\u001b[1;33m\u001b[0m\u001b[0m\n\u001b[1;32m--> 555\u001b[1;33m           outputs = execute.execute(\n\u001b[0m\u001b[0;32m    556\u001b[0m               \u001b[0mstr\u001b[0m\u001b[1;33m(\u001b[0m\u001b[0mself\u001b[0m\u001b[1;33m.\u001b[0m\u001b[0msignature\u001b[0m\u001b[1;33m.\u001b[0m\u001b[0mname\u001b[0m\u001b[1;33m)\u001b[0m\u001b[1;33m,\u001b[0m\u001b[1;33m\u001b[0m\u001b[1;33m\u001b[0m\u001b[0m\n\u001b[0;32m    557\u001b[0m               \u001b[0mnum_outputs\u001b[0m\u001b[1;33m=\u001b[0m\u001b[0mself\u001b[0m\u001b[1;33m.\u001b[0m\u001b[0m_num_outputs\u001b[0m\u001b[1;33m,\u001b[0m\u001b[1;33m\u001b[0m\u001b[1;33m\u001b[0m\u001b[0m\n",
      "\u001b[1;32mD:\\Programs\\Anaconda\\envs\\msk_img_registration\\lib\\site-packages\\tensorflow\\python\\eager\\execute.py\u001b[0m in \u001b[0;36mquick_execute\u001b[1;34m(op_name, num_outputs, inputs, attrs, ctx, name)\u001b[0m\n\u001b[0;32m     57\u001b[0m   \u001b[1;32mtry\u001b[0m\u001b[1;33m:\u001b[0m\u001b[1;33m\u001b[0m\u001b[1;33m\u001b[0m\u001b[0m\n\u001b[0;32m     58\u001b[0m     \u001b[0mctx\u001b[0m\u001b[1;33m.\u001b[0m\u001b[0mensure_initialized\u001b[0m\u001b[1;33m(\u001b[0m\u001b[1;33m)\u001b[0m\u001b[1;33m\u001b[0m\u001b[1;33m\u001b[0m\u001b[0m\n\u001b[1;32m---> 59\u001b[1;33m     tensors = pywrap_tfe.TFE_Py_Execute(ctx._handle, device_name, op_name,\n\u001b[0m\u001b[0;32m     60\u001b[0m                                         inputs, attrs, num_outputs)\n\u001b[0;32m     61\u001b[0m   \u001b[1;32mexcept\u001b[0m \u001b[0mcore\u001b[0m\u001b[1;33m.\u001b[0m\u001b[0m_NotOkStatusException\u001b[0m \u001b[1;32mas\u001b[0m \u001b[0me\u001b[0m\u001b[1;33m:\u001b[0m\u001b[1;33m\u001b[0m\u001b[1;33m\u001b[0m\u001b[0m\n",
      "\u001b[1;31mResourceExhaustedError\u001b[0m:  OOM when allocating tensor with shape[1,64,52,128,128] and type float on /job:localhost/replica:0/task:0/device:GPU:0 by allocator GPU_0_bfc\n\t [[node generator_model/conv3d_9/Conv3D (defined at <ipython-input-18-ece6db4c675b>:4) ]]\nHint: If you want to see a list of allocated tensors when OOM happens, add report_tensor_allocations_upon_oom to RunOptions for current allocation info.\n [Op:__inference_train_step_15228]\n\nFunction call stack:\ntrain_step\n"
     ]
    }
   ],
   "source": [
    "epochs = 50\n",
    "steps_per_epoch = int(trainDataSize / bs)\n",
    "train(epochs, steps_per_epoch)"
   ]
  },
  {
   "cell_type": "markdown",
   "metadata": {},
   "source": [
    "## Test model (output == warpedImg)"
   ]
  },
  {
   "cell_type": "code",
   "execution_count": null,
   "metadata": {},
   "outputs": [],
   "source": [
    "testModel = keras.Model(inputs=inputs, outputs=[affine_warped, affine_pred])"
   ]
  },
  {
   "cell_type": "code",
   "execution_count": null,
   "metadata": {},
   "outputs": [],
   "source": [
    "# testModel.load_weights('./checkpoints/epoch_{}'.format(epochs-1))\n",
    "testModel.load_weights('./checkpoints/13.h5')"
   ]
  },
  {
   "cell_type": "code",
   "execution_count": null,
   "metadata": {},
   "outputs": [],
   "source": [
    "dataGen_test = data_generator(batch_size = 1)\n",
    "moving_test, label_test = next(dataGen_test)\n",
    "(warped_test, affine_pred_test) = testModel(moving_test)\n",
    "print(label_test[1])\n",
    "print(affine_pred_test)\n",
    "mse = tf.keras.losses.MeanSquaredError()\n",
    "print(mse(label_test[1], affine_pred_test))"
   ]
  },
  {
   "cell_type": "code",
   "execution_count": null,
   "metadata": {
    "scrolled": false
   },
   "outputs": [],
   "source": [
    "sliceToCheck = 0\n",
    "fig, axs = plt.subplots(5, 3, figsize=(15, 35))\n",
    "for i in range(5):\n",
    "    axs[i, 0].imshow(fixedImg[sliceToCheck + i * 5,:,:,0])\n",
    "    axs[i, 0].set_title(\"Fixed Image\")\n",
    "    axs[i, 1].imshow(moving_test[0,sliceToCheck + i * 5,:,:,0])\n",
    "    axs[i, 1].set_title(\"Moving Image\")\n",
    "    axs[i, 2].imshow(warped_test[0,sliceToCheck + i * 5,:,:,0])\n",
    "    axs[i, 2].set_title(\"Warped Image\")\n",
    "plt.show()"
   ]
  },
  {
   "cell_type": "code",
   "execution_count": null,
   "metadata": {},
   "outputs": [],
   "source": []
  },
  {
   "cell_type": "code",
   "execution_count": null,
   "metadata": {},
   "outputs": [],
   "source": []
  }
 ],
 "metadata": {
  "interpreter": {
   "hash": "1605c0525c2198cbe60fa5a139e6a40d44ae35e4394a210c2a7aa54384ea8e5b"
  },
  "kernelspec": {
   "display_name": "Python 3",
   "language": "python",
   "name": "python3"
  },
  "language_info": {
   "codemirror_mode": {
    "name": "ipython",
    "version": 3
   },
   "file_extension": ".py",
   "mimetype": "text/x-python",
   "name": "python",
   "nbconvert_exporter": "python",
   "pygments_lexer": "ipython3",
   "version": "3.8.5"
  }
 },
 "nbformat": 4,
 "nbformat_minor": 4
}
