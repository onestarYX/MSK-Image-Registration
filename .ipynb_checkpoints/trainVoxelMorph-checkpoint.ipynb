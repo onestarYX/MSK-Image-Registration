{
 "cells": [
  {
   "cell_type": "code",
   "execution_count": 1,
   "metadata": {
    "colab": {
     "base_uri": "https://localhost:8080/",
     "height": 34
    },
    "colab_type": "code",
    "executionInfo": {
     "elapsed": 2451,
     "status": "ok",
     "timestamp": 1598153860613,
     "user": {
      "displayName": "MSK Lab",
      "photoUrl": "",
      "userId": "06369511661258682397"
     },
     "user_tz": -480
    },
    "id": "uIhbEQy2TkTP",
    "outputId": "1887f091-7d8d-44f5-85fe-ac37f891d3db"
   },
   "outputs": [
    {
     "name": "stderr",
     "output_type": "stream",
     "text": [
      "Using TensorFlow backend.\n"
     ]
    }
   ],
   "source": [
    "%matplotlib inline\n",
    "import os, sys\n",
    "import glob\n",
    "\n",
    "import tensorflow as tf\n",
    "import scipy.io as sio\n",
    "import numpy as np\n",
    "import nibabel as nib\n",
    "import keras\n",
    "from keras.backend.tensorflow_backend import set_session\n",
    "from scipy.interpolate import interpn # trasformation\n",
    "import matplotlib.pyplot as plt"
   ]
  },
  {
   "cell_type": "code",
   "execution_count": 4,
   "metadata": {
    "colab": {},
    "colab_type": "code",
    "executionInfo": {
     "elapsed": 10132,
     "status": "ok",
     "timestamp": 1598153880581,
     "user": {
      "displayName": "MSK Lab",
      "photoUrl": "",
      "userId": "06369511661258682397"
     },
     "user_tz": -480
    },
    "id": "tqcormakS4FV"
   },
   "outputs": [],
   "source": [
    "# Change this path as you need.\n",
    "vm_dir = '/content/drive/My Drive/voxel'\n",
    "# vm_dir = './'\n",
    "\n",
    "sys.path.append(os.path.join(vm_dir, 'src')) \n",
    "sys.path.append(os.path.join(vm_dir, 'ext', 'medipy-lib'))\n",
    "sys.path.append(os.path.join(vm_dir, 'ext', 'neuron'))\n",
    "sys.path.append(os.path.join(vm_dir, 'ext', 'pynd-lib'))\n",
    "sys.path.append(os.path.join(vm_dir, 'ext', 'pytools-lib'))\n",
    "\n",
    "import medipy\n",
    "import networks, losses\n",
    "from medipy.metrics import dice\n",
    "import datagenerators\n",
    "import neuron.layers as nrn_layers # import this at last"
   ]
  },
  {
   "cell_type": "code",
   "execution_count": null,
   "metadata": {
    "colab": {},
    "colab_type": "code",
    "id": "uZQ2ITyZC1cc"
   },
   "outputs": [],
   "source": [
    "!python /content/drive/My\\ Drive/voxel/src/train_miccai2018.py /content/drive/My\\ Drive/voxel/MRNet/MRNet-forVoxelMorph/processedData2/ --atlas_file /content/drive/My\\ Drive/voxel/MRNet/MRNet-forVoxelMorph/atlas.npz --model_dir /content/drive/My\\ Drive/voxel/models/test --gpu 0"
   ]
  }
 ],
 "metadata": {
  "accelerator": "GPU",
  "colab": {
   "authorship_tag": "ABX9TyOmsAzvojN2YJeqYOW4+DpE",
   "collapsed_sections": [],
   "name": "trainVoxelMorph.ipynb",
   "provenance": []
  },
  "kernelspec": {
   "display_name": "Python 3",
   "language": "python",
   "name": "python3"
  },
  "language_info": {
   "codemirror_mode": {
    "name": "ipython",
    "version": 3
   },
   "file_extension": ".py",
   "mimetype": "text/x-python",
   "name": "python",
   "nbconvert_exporter": "python",
   "pygments_lexer": "ipython3",
   "version": "3.6.10"
  }
 },
 "nbformat": 4,
 "nbformat_minor": 1
}
