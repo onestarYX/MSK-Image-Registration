{
 "cells": [
  {
   "cell_type": "code",
   "execution_count": 1,
   "metadata": {},
   "outputs": [],
   "source": [
    "import os\n",
    "import csv\n",
    "import numpy as np\n",
    "import matplotlib.pyplot as plt"
   ]
  },
  {
   "cell_type": "code",
   "execution_count": 16,
   "metadata": {},
   "outputs": [],
   "source": [
    "# File Paths\n",
    "imgIdxCsvPath = './MRNet/MRNet-v1.0/similar.csv'\n",
    "MRI_Path = './MRNet/MRNet-v1.0/train/axial/{}.npy'"
   ]
  },
  {
   "cell_type": "code",
   "execution_count": 7,
   "metadata": {},
   "outputs": [],
   "source": [
    "# Get indices of qualified training images in MRNet.\n",
    "imageIndices = []\n",
    "with open(imgIdxCsvPath) as file:\n",
    "    fileReader = csv.reader(file)\n",
    "    # Find all the rows with abnormal as 0 and store their indices\n",
    "    for row in fileReader:\n",
    "        index = str(row[0])\n",
    "        while(len(index) < 4):\n",
    "            index = '0' + index\n",
    "        imageIndices.append(index)"
   ]
  },
  {
   "cell_type": "code",
   "execution_count": 8,
   "metadata": {},
   "outputs": [
    {
     "name": "stdout",
     "output_type": "stream",
     "text": [
      "['0000', '0002', '0009', '0013', '0015', '0020', '0033', '0070', '0086', '0143', '0170', '0171', '0174', '0179', '0184', '0204', '0209', '0215', '0257', '0262', '0274', '0275', '0286', '0302', '0317', '0321', '0351', '0362', '0366', '0367', '0372', '0377', '0396', '0431', '0440', '0445', '0448', '0460', '0472', '0474', '0479', '0491', '0495', '0496', '0500', '0525', '0531', '0532', '0573', '0575', '0580', '0599', '0605', '0607', '0609', '0644', '0648', '0662', '0666', '0669', '0674', '0701', '0702', '0716', '0724', '0739', '0751', '0769', '0805', '0806', '0815', '0818', '0827', '0867', '0876', '0880', '0885', '0903', '0941', '0957', '0969', '0981', '1020', '1026', '1039', '1060', '1079', '1106', '1116', '1121']\n"
     ]
    }
   ],
   "source": [
    "print(imageIndices)"
   ]
  },
  {
   "cell_type": "code",
   "execution_count": 17,
   "metadata": {},
   "outputs": [
    {
     "name": "stdout",
     "output_type": "stream",
     "text": [
      "52\n",
      "0701\n"
     ]
    }
   ],
   "source": [
    "# Check which image has most slices, then we use it as our atlas/target/fixed image.\n",
    "maxSlice = 0\n",
    "targetIndex = None\n",
    "for index in imageIndices:\n",
    "    img = np.load(MRI_Path.format(index))\n",
    "    if (img.shape[0] > maxSlice):\n",
    "        targetIndex = index\n",
    "        maxSlice = img.shape[0]\n",
    "    \n",
    "print(maxSlice)\n",
    "print(targetIndex)"
   ]
  },
  {
   "cell_type": "code",
   "execution_count": 18,
   "metadata": {},
   "outputs": [],
   "source": [
    "# Load fixed image.\n",
    "fixedImg = np.load(MRI_Path.format(targetIndex))"
   ]
  },
  {
   "cell_type": "code",
   "execution_count": 20,
   "metadata": {},
   "outputs": [],
   "source": [
    "# Load moving images and zero-pad them.\n",
    "movingImgs = []\n",
    "for index in imageIndices:\n",
    "    if index == targetIndex:\n",
    "        continue\n",
    "    img = np.load(MRI_Path.format(index))\n",
    "    numSlicesToPaddle = maxSlice - img.shape[0]\n",
    "    img = np.pad(img, ((0, numSlicesToPaddle), (0, 0), (0, 0)))\n",
    "    movingImgs.append(img)"
   ]
  },
  {
   "cell_type": "code",
   "execution_count": null,
   "metadata": {},
   "outputs": [],
   "source": []
  }
 ],
 "metadata": {
  "kernelspec": {
   "display_name": "Python 3",
   "language": "python",
   "name": "python3"
  },
  "language_info": {
   "codemirror_mode": {
    "name": "ipython",
    "version": 3
   },
   "file_extension": ".py",
   "mimetype": "text/x-python",
   "name": "python",
   "nbconvert_exporter": "python",
   "pygments_lexer": "ipython3",
   "version": "3.6.10"
  }
 },
 "nbformat": 4,
 "nbformat_minor": 4
}
