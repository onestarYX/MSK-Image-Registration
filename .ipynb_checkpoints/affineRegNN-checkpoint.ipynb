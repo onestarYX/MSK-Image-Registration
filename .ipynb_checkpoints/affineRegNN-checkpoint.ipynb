{
 "cells": [
  {
   "cell_type": "code",
   "execution_count": null,
   "metadata": {},
   "outputs": [],
   "source": [
    "import os\n",
    "import csv\n",
    "import numpy as np\n",
    "import matplotlib.pyplot as plt\n",
    "import scipy\n",
    "\n",
    "import tensorflow as tf\n",
    "from tensorflow import keras\n",
    "from tensorflow.keras import layers\n",
    "from tensorflow.keras import backend as K\n",
    "from tensorflow.keras.callbacks import ModelCheckpoint\n",
    "\n",
    "import random"
   ]
  },
  {
   "cell_type": "code",
   "execution_count": null,
   "metadata": {},
   "outputs": [],
   "source": [
    "import layers as custom_layers"
   ]
  },
  {
   "cell_type": "code",
   "execution_count": null,
   "metadata": {},
   "outputs": [],
   "source": [
    "print(\"Num GPUs Available: \", len(tf.config.list_physical_devices('GPU')))"
   ]
  },
  {
   "cell_type": "code",
   "execution_count": null,
   "metadata": {},
   "outputs": [],
   "source": [
    "# File Paths\n",
    "imgIdxCsvPath = './MRNet/MRNet-v1.0/similar.csv'\n",
    "MRI_Path = './MRNet/MRNet-v1.0/train/axial/{}.npy'"
   ]
  },
  {
   "cell_type": "code",
   "execution_count": null,
   "metadata": {},
   "outputs": [],
   "source": [
    "# Get indices of qualified training images in MRNet.\n",
    "imageIndices = []\n",
    "with open(imgIdxCsvPath) as file:\n",
    "    fileReader = csv.reader(file)\n",
    "    # Find all the rows with abnormal as 0 and store their indices\n",
    "    for row in fileReader:\n",
    "        index = str(row[0])\n",
    "        while(len(index) < 4):\n",
    "            index = '0' + index\n",
    "        imageIndices.append(index)"
   ]
  },
  {
   "cell_type": "code",
   "execution_count": null,
   "metadata": {
    "scrolled": true
   },
   "outputs": [],
   "source": [
    "print(imageIndices)"
   ]
  },
  {
   "cell_type": "code",
   "execution_count": null,
   "metadata": {
    "scrolled": true
   },
   "outputs": [],
   "source": [
    "# Check which image has most slices, then we use it as our atlas/target/fixed image.\n",
    "maxSlice = 0\n",
    "targetIndex = None\n",
    "for index in imageIndices:\n",
    "    img = np.load(MRI_Path.format(index))\n",
    "    if (img.shape[0] > maxSlice):\n",
    "        targetIndex = index\n",
    "        maxSlice = img.shape[0]\n",
    "    \n",
    "print(maxSlice)\n",
    "print(targetIndex)"
   ]
  },
  {
   "cell_type": "markdown",
   "metadata": {},
   "source": [
    "## Load all qualified images into memory"
   ]
  },
  {
   "cell_type": "code",
   "execution_count": null,
   "metadata": {},
   "outputs": [],
   "source": [
    "# Load fixed image.\n",
    "fixedImg = np.load(MRI_Path.format(targetIndex))"
   ]
  },
  {
   "cell_type": "code",
   "execution_count": null,
   "metadata": {},
   "outputs": [],
   "source": [
    "# Load moving images and zero-pad them.\n",
    "movingImgs = []\n",
    "# limit = 30\n",
    "# counter = 0\n",
    "for index in imageIndices:\n",
    "    if index == targetIndex:\n",
    "        continue\n",
    "#     if counter == limit:\n",
    "#         break\n",
    "    img = np.load(MRI_Path.format(index))\n",
    "    numSlicesToPaddle = maxSlice - img.shape[0]\n",
    "    img = np.pad(img, ((0, numSlicesToPaddle), (0, 0), (0, 0)))\n",
    "    movingImgs.append(img)\n",
    "#     counter += 1"
   ]
  },
  {
   "cell_type": "code",
   "execution_count": null,
   "metadata": {},
   "outputs": [],
   "source": [
    "# Append the channel axis to moving images and the fixed image.\n",
    "fixedImg = np.expand_dims(fixedImg, axis=-1)\n",
    "for i in range(len(movingImgs)):\n",
    "    movingImgs[i] = np.expand_dims(movingImgs[i], axis=-1)\n",
    "print(movingImgs[0].shape)\n",
    "print(fixedImg.shape)"
   ]
  },
  {
   "cell_type": "code",
   "execution_count": null,
   "metadata": {},
   "outputs": [],
   "source": [
    "movingImgs = np.array(movingImgs)\n",
    "print(movingImgs.shape)"
   ]
  },
  {
   "cell_type": "code",
   "execution_count": null,
   "metadata": {
    "scrolled": true
   },
   "outputs": [],
   "source": [
    "fixedImgs = np.repeat(fixedImg[np.newaxis,...], movingImgs.shape[0], axis = 0)\n",
    "print(fixedImgs.shape)"
   ]
  },
  {
   "cell_type": "code",
   "execution_count": null,
   "metadata": {},
   "outputs": [],
   "source": [
    "print(movingImgs.dtype)"
   ]
  },
  {
   "cell_type": "code",
   "execution_count": null,
   "metadata": {},
   "outputs": [],
   "source": [
    "movingImgs = movingImgs.astype('float32')\n",
    "fixedImgs = fixedImgs.astype('float32')"
   ]
  },
  {
   "cell_type": "code",
   "execution_count": null,
   "metadata": {},
   "outputs": [],
   "source": [
    "print(movingImgs.dtype)"
   ]
  },
  {
   "cell_type": "code",
   "execution_count": null,
   "metadata": {},
   "outputs": [],
   "source": [
    "dataset = tf.data.Dataset.from_tensor_slices((movingImgs, fixedImgs))\n",
    "batch_size = 1\n",
    "dataset.batch(batch_size)"
   ]
  },
  {
   "cell_type": "code",
   "execution_count": null,
   "metadata": {},
   "outputs": [],
   "source": [
    "print(dataset.element_spec)"
   ]
  },
  {
   "cell_type": "markdown",
   "metadata": {},
   "source": [
    "## Load data by data generators"
   ]
  },
  {
   "cell_type": "code",
   "execution_count": null,
   "metadata": {},
   "outputs": [],
   "source": [
    "fixedImg = np.load(MRI_Path.format(targetIndex))\n",
    "fixedImg = np.expand_dims(fixedImg, axis=-1)\n",
    "fixedImg = fixedImg.astype('float32')\n",
    "def data_generator(batchSize = 1):\n",
    "    while True:\n",
    "        movingImgs = []\n",
    "        fixedImgs = []\n",
    "        for i in range(batchSize):\n",
    "            idx = random.randrange(len(imageIndices))\n",
    "            fileIdx = imageIndices[idx]\n",
    "            movingImg = np.load(MRI_Path.format(fileIdx))\n",
    "            numSlicesToPaddle = maxSlice - movingImg.shape[0]\n",
    "            movingImg = np.pad(movingImg, ((0, numSlicesToPaddle), (0, 0), (0, 0)))\n",
    "            movingImg = np.expand_dims(movingImg, axis=-1)\n",
    "            movingImg = movingImg.astype('float32')\n",
    "            movingImgs.append(movingImg)\n",
    "            fixedImgs.append(fixedImg)\n",
    "        movingImgs = np.array(movingImgs)\n",
    "        fixedImgs = np.array(fixedImgs)\n",
    "        yield (movingImgs, fixedImgs)"
   ]
  },
  {
   "cell_type": "code",
   "execution_count": null,
   "metadata": {},
   "outputs": [],
   "source": [
    "dataGen = data_generator()"
   ]
  },
  {
   "cell_type": "code",
   "execution_count": null,
   "metadata": {
    "scrolled": true
   },
   "outputs": [],
   "source": [
    "# Construct NN\n",
    "# nFeats = 1\n",
    "# for i in range(len(fixedImg.shape)):\n",
    "#     nFeats *= fixedImg.shape[i]\n",
    "# print(nFeats)\n",
    "inputs = keras.Input(shape = fixedImg.shape)\n",
    "print(inputs.shape)\n",
    "conv_0 = layers.Conv3D(filters=2, kernel_size=(3, 10, 10), activation=\"relu\")(inputs)\n",
    "conv_1 = layers.Conv3D(filters=3, kernel_size=(3, 15, 15), activation=\"relu\")(conv_0)\n",
    "filtered_conv_1 = layers.MaxPool3D((2, 2, 2))(conv_1)\n",
    "conv_2 = layers.Conv3D(filters=4, kernel_size=(3, 15, 15), activation=\"relu\")(filtered_conv_1)\n",
    "filtered_conv_2 = layers.MaxPool3D((1, 2, 2))(conv_2)\n",
    "print(filtered_conv_2.shape)\n",
    "conv_3 = layers.Conv3D(filters=2, kernel_size=(6, 20, 20), activation=\"relu\")(filtered_conv_2)\n",
    "conv_4 = layers.Conv3D(filters=1, kernel_size=(6, 10, 10), activation=\"relu\")(conv_3)\n",
    "print(conv_4.shape)\n",
    "flattened = layers.Flatten()(conv_4)\n",
    "print(flattened.shape)\n",
    "dense_0 = layers.Dense(256, activation=\"relu\")(flattened)\n",
    "affine_pred = layers.Dense(12, activation=\"relu\")(dense_0)\n",
    "warped = custom_layers.SpatialTransformer(interp_method='linear')([inputs, affine_pred])\n",
    "print(warped.shape)"
   ]
  },
  {
   "cell_type": "code",
   "execution_count": null,
   "metadata": {
    "scrolled": false
   },
   "outputs": [],
   "source": [
    "model = keras.Model(inputs=inputs, outputs=warped, name=\"affine_model\")\n",
    "model.summary()"
   ]
  },
  {
   "cell_type": "code",
   "execution_count": null,
   "metadata": {},
   "outputs": [],
   "source": [
    "lr = 0.001\n",
    "optimizer = tf.keras.optimizers.Adam(learning_rate = lr)\n",
    "loss_object = tf.keras.losses.MeanSquaredError()\n",
    "\n",
    "loss_history = []\n",
    "save_callback = ModelCheckpoint('./checkpoints/{epoch:02d}.h5')"
   ]
  },
  {
   "cell_type": "code",
   "execution_count": null,
   "metadata": {},
   "outputs": [],
   "source": [
    "model.compile(optimizer=optimizer, loss=loss_object)"
   ]
  },
  {
   "cell_type": "code",
   "execution_count": null,
   "metadata": {
    "scrolled": false
   },
   "outputs": [],
   "source": [
    "model.fit(dataGen, epochs=50, steps_per_epoch=50, callbacks=[save_callback])"
   ]
  },
  {
   "cell_type": "code",
   "execution_count": null,
   "metadata": {},
   "outputs": [],
   "source": [
    "'''\n",
    "Training step for each epoch\n",
    "'''\n",
    "def train_step(movingImages, fixedImages):\n",
    "  with tf.GradientTape() as tape:\n",
    "    warpedImages = model(movingImages, training=True)\n",
    "\n",
    "    # Add asserts to check the shape of the output.\n",
    "    #tf.debugging.assert_equal(logits.shape, (32, 10))\n",
    "\n",
    "    loss_value = loss_object(warpedImages, fixedImages)\n",
    "\n",
    "  loss_history.append(loss_value.numpy().mean())\n",
    "  grads = tape.gradient(loss_value, model.trainable_variables)\n",
    "  optimizer.apply_gradients(zip(grads, model.trainable_variables))"
   ]
  },
  {
   "cell_type": "code",
   "execution_count": null,
   "metadata": {},
   "outputs": [],
   "source": [
    "def train(epochs):\n",
    "  for epoch in range(epochs):\n",
    "    for (batch, (movingImages, fixedImages)) in enumerate(dataset):\n",
    "        movingImages = movingImages[np.newaxis,...]\n",
    "        fixedImages = fixedImages[np.newaxis,...]\n",
    "        train_step(movingImages, fixedImages)\n",
    "    print ('Epoch {} finished. Current loss value: {}'.format(epoch, loss_history[-1]))\n",
    "    model.save_weights('./checkpoints/epoch_{}'.format(epoch))"
   ]
  },
  {
   "cell_type": "code",
   "execution_count": null,
   "metadata": {},
   "outputs": [],
   "source": [
    "epochs = 50\n",
    "train(epochs)"
   ]
  },
  {
   "cell_type": "code",
   "execution_count": null,
   "metadata": {},
   "outputs": [],
   "source": [
    "testModel = keras.Model(inputs=inputs, outputs=warped)"
   ]
  },
  {
   "cell_type": "code",
   "execution_count": null,
   "metadata": {},
   "outputs": [],
   "source": [
    "testModel.load_weights('./checkpoints/epoch_{}'.format(epochs-1))"
   ]
  },
  {
   "cell_type": "code",
   "execution_count": null,
   "metadata": {},
   "outputs": [],
   "source": [
    "warped_test = testModel(movingImgs[0:1])"
   ]
  },
  {
   "cell_type": "code",
   "execution_count": null,
   "metadata": {
    "scrolled": true
   },
   "outputs": [],
   "source": [
    "print(warped_test.shape)"
   ]
  },
  {
   "cell_type": "code",
   "execution_count": null,
   "metadata": {
    "scrolled": true
   },
   "outputs": [],
   "source": [
    "sliceToCheck = 30\n",
    "fig, axs = plt.subplots(1, 3, figsize=(15, 15))\n",
    "axs[0].imshow(fixedImg[sliceToCheck,:,:,0])\n",
    "axs[0].set_title(\"Fixed Image\")\n",
    "axs[1].imshow(movingImgs[0,sliceToCheck,:,:,0])\n",
    "axs[1].set_title(\"Moving Image\")\n",
    "axs[2].imshow(warped_test[0,sliceToCheck,:,:,0])\n",
    "axs[2].set_title(\"Warped Image\")\n",
    "plt.show()"
   ]
  },
  {
   "cell_type": "code",
   "execution_count": null,
   "metadata": {},
   "outputs": [],
   "source": [
    "fig, ax = plt.subplots()\n",
    "ax.plot(range(len(loss_history)), loss_history)"
   ]
  },
  {
   "cell_type": "code",
   "execution_count": null,
   "metadata": {},
   "outputs": [],
   "source": [
    "n = np.array([1., 2., 4.])\n",
    "t = tf.constant(n)\n",
    "print(t.shape)\n",
    "print(t.shape.as_list())"
   ]
  },
  {
   "cell_type": "code",
   "execution_count": null,
   "metadata": {},
   "outputs": [],
   "source": []
  },
  {
   "cell_type": "code",
   "execution_count": null,
   "metadata": {},
   "outputs": [],
   "source": []
  }
 ],
 "metadata": {
  "kernelspec": {
   "display_name": "Python 3",
   "language": "python",
   "name": "python3"
  },
  "language_info": {
   "codemirror_mode": {
    "name": "ipython",
    "version": 3
   },
   "file_extension": ".py",
   "mimetype": "text/x-python",
   "name": "python",
   "nbconvert_exporter": "python",
   "pygments_lexer": "ipython3",
   "version": "3.8.5"
  }
 },
 "nbformat": 4,
 "nbformat_minor": 4
}
