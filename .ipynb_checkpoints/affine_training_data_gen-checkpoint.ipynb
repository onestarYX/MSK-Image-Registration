{
 "cells": [
  {
   "cell_type": "code",
   "execution_count": null,
   "metadata": {},
   "outputs": [],
   "source": [
    "import os\n",
    "import csv\n",
    "import numpy as np\n",
    "import matplotlib.pyplot as plt\n",
    "import scipy\n",
    "\n",
    "import tensorflow as tf\n",
    "from tensorflow import keras\n",
    "from tensorflow.keras import layers\n",
    "from tensorflow.keras import backend as K\n",
    "from tensorflow.keras.callbacks import ModelCheckpoint\n",
    "\n",
    "import random\n",
    "import math\n",
    "\n",
    "import layers as custom_layers"
   ]
  },
  {
   "cell_type": "code",
   "execution_count": null,
   "metadata": {},
   "outputs": [],
   "source": [
    "MRI_Path = './MRNet/MRNet-v1.0/train/axial/{}.npy'"
   ]
  },
  {
   "cell_type": "code",
   "execution_count": null,
   "metadata": {},
   "outputs": [],
   "source": [
    "fixedImg = np.load(MRI_Path.format('0701'))"
   ]
  },
  {
   "cell_type": "code",
   "execution_count": null,
   "metadata": {},
   "outputs": [],
   "source": [
    "inputImg = np.expand_dims(fixedImg, axis=-1)\n",
    "inputImg = inputImg / np.max(inputImg)\n",
    "inputImg = np.expand_dims(inputImg, axis=0)"
   ]
  },
  {
   "cell_type": "code",
   "execution_count": null,
   "metadata": {},
   "outputs": [],
   "source": [
    "# Get rid of the batch dimension\n",
    "imgInput = keras.Input(shape = list(inputImg.shape)[1:])\n",
    "affineInput = keras.Input(shape = (12,))\n",
    "\n",
    "affine_warped = custom_layers.SpatialTransformer(interp_method='linear', add_identity=False, indexing=\"ij\", shift_center=True)([imgInput, affineInput])\n",
    "print(affine_warped.shape)"
   ]
  },
  {
   "cell_type": "code",
   "execution_count": null,
   "metadata": {},
   "outputs": [],
   "source": [
    "model = keras.Model(inputs=[imgInput, affineInput], outputs=affine_warped, name=\"affine_transformation\")\n",
    "model.summary()"
   ]
  },
  {
   "cell_type": "code",
   "execution_count": null,
   "metadata": {
    "scrolled": false
   },
   "outputs": [],
   "source": [
    "for i in range(2000):\n",
    "    transformedImg = np.zeros(fixedImg.shape)\n",
    "\n",
    "    translation = np.eye(4)\n",
    "    rotX = np.eye(4)\n",
    "    rotY = np.eye(4)\n",
    "    rotZ = np.eye(4)\n",
    "    scaling = np.eye(4)\n",
    "\n",
    "    xTranslationRange = 5\n",
    "    yTranslationRange = 30\n",
    "    zTranslationRange = 30\n",
    "    translation[0, 3] = xTranslationRange * random.random()\n",
    "    translation[1, 3] = yTranslationRange * random.random()\n",
    "    translation[2, 3] = zTranslationRange * random.random()\n",
    "\n",
    "    xRotAngle = math.pi / random.uniform(8, 80)\n",
    "    rotX[1, 1] = math.cos(xRotAngle)\n",
    "    rotX[1, 2] = math.sin(xRotAngle)\n",
    "    rotX[2, 1] = -math.sin(xRotAngle)\n",
    "    rotX[2, 2] = math.cos(xRotAngle)\n",
    "\n",
    "    yRotAngle = math.pi / random.uniform(40, 160)\n",
    "    rotY[0, 0] = math.cos(yRotAngle)\n",
    "    rotY[0, 2] = -math.sin(yRotAngle)\n",
    "    rotY[2, 0] = math.sin(yRotAngle)\n",
    "    rotY[2, 2] = math.cos(yRotAngle)\n",
    "\n",
    "    zRotAngle = math.pi / random.uniform(40, 160)\n",
    "    rotZ[0, 0] = math.cos(zRotAngle)\n",
    "    rotZ[0, 1] = -math.sin(zRotAngle)\n",
    "    rotZ[1, 0] = math.sin(zRotAngle)\n",
    "    rotZ[1, 1] = math.cos(zRotAngle)\n",
    "\n",
    "    scalingX = random.uniform(0.85, 1.15)\n",
    "    scalingY = random.uniform(0.85, 1.15)\n",
    "    scalingZ = random.uniform(0.85, 1.15)\n",
    "    scaling[0, 0] = scalingX\n",
    "    scaling[1, 1] = scalingY\n",
    "    scaling[2, 2] = scalingZ\n",
    "\n",
    "    transMat = translation @ rotZ @ rotY @ rotX @ scaling\n",
    "\n",
    "    affine_param = transMat[0:3].flatten()\n",
    "    affine_param = np.expand_dims(affine_param, axis=0)\n",
    "    \n",
    "    transformedImg = model([inputImg, affine_param])\n",
    "    transformedImg = tf.squeeze(transformedImg)\n",
    "    \n",
    "    transMat_inv = np.linalg.inv(transMat)\n",
    "    trf_to_save = transMat_inv[0:3].flatten()\n",
    "    \n",
    "    path = \"./affineTrainingData/affine{}.npz\"\n",
    "    f = open(path.format(i), \"wb\")\n",
    "    np.savez(f, img = transformedImg, trf = trf_to_save)\n",
    "    f.close()\n",
    "    if (i % 100 == 0):\n",
    "        print(\"Milestone: file {} has been saved.\".format(i))"
   ]
  },
  {
   "cell_type": "code",
   "execution_count": null,
   "metadata": {},
   "outputs": [],
   "source": []
  },
  {
   "cell_type": "markdown",
   "metadata": {},
   "source": [
    "## Check generated training dataset"
   ]
  },
  {
   "cell_type": "code",
   "execution_count": null,
   "metadata": {},
   "outputs": [],
   "source": [
    "trainDataPath = \"./affineTrainingData/affine{}.npz\"\n",
    "sample_idx = random.randrange(2000)\n",
    "zip_obj = np.load(trainDataPath.format(sample_idx))\n",
    "moving_img = zip_obj['img']\n",
    "moving_img = np.expand_dims(moving_img, axis = -1)\n",
    "moving_img = np.expand_dims(moving_img, axis = 0)\n",
    "target_trf = zip_obj['trf']\n",
    "target_trf = np.expand_dims(target_trf, axis = 0)\n",
    "recon_img = model([moving_img, target_trf])\n",
    "\n",
    "sliceToCheck = 25\n",
    "fig, axs = plt.subplots(1, 3, figsize=(15, 15))\n",
    "axs[0].imshow(fixedImg[sliceToCheck, :, :])\n",
    "axs[1].imshow(moving_img[0, sliceToCheck, :, :, 0])\n",
    "axs[2].imshow(recon_img[0, sliceToCheck, :, :, 0])"
   ]
  },
  {
   "cell_type": "code",
   "execution_count": null,
   "metadata": {},
   "outputs": [],
   "source": []
  },
  {
   "cell_type": "markdown",
   "metadata": {},
   "source": [
    "## For testing purposes: check random transformed image samples"
   ]
  },
  {
   "cell_type": "code",
   "execution_count": null,
   "metadata": {
    "scrolled": false
   },
   "outputs": [],
   "source": [
    "transformedImg = np.zeros(fixedImg.shape)\n",
    "\n",
    "translation = np.eye(4)\n",
    "rotX = np.eye(4)\n",
    "rotY = np.eye(4)\n",
    "rotZ = np.eye(4)\n",
    "scaling = np.eye(4)\n",
    "\n",
    "xTranslationRange = 5\n",
    "yTranslationRange = 30\n",
    "zTranslationRange = 30\n",
    "translation[0, 3] = xTranslationRange * random.random()\n",
    "translation[1, 3] = yTranslationRange * random.random()\n",
    "translation[2, 3] = zTranslationRange * random.random()\n",
    "\n",
    "xRotAngle = math.pi / random.uniform(8, 80)\n",
    "rotX[1, 1] = math.cos(xRotAngle)\n",
    "rotX[1, 2] = math.sin(xRotAngle)\n",
    "rotX[2, 1] = -math.sin(xRotAngle)\n",
    "rotX[2, 2] = math.cos(xRotAngle)\n",
    "\n",
    "yRotAngle = math.pi / random.uniform(40, 160)\n",
    "rotY[0, 0] = math.cos(yRotAngle)\n",
    "rotY[0, 2] = -math.sin(yRotAngle)\n",
    "rotY[2, 0] = math.sin(yRotAngle)\n",
    "rotY[2, 2] = math.cos(yRotAngle)\n",
    "\n",
    "zRotAngle = math.pi / random.uniform(40, 160)\n",
    "rotZ[0, 0] = math.cos(zRotAngle)\n",
    "rotZ[0, 1] = -math.sin(zRotAngle)\n",
    "rotZ[1, 0] = math.sin(zRotAngle)\n",
    "rotZ[1, 1] = math.cos(zRotAngle)\n",
    "\n",
    "scalingX = random.uniform(0.85, 1.15)\n",
    "scalingY = random.uniform(0.85, 1.15)\n",
    "scalingZ = random.uniform(0.85, 1.15)\n",
    "scaling[0, 0] = scalingX\n",
    "scaling[1, 1] = scalingY\n",
    "scaling[2, 2] = scalingZ\n",
    "\n",
    "transMat = translation @ rotZ @ rotY @ rotX @ scaling\n",
    "\n",
    "affine_param_test = transMat[0:3].flatten()\n",
    "affine_param_test = np.expand_dims(affine_param_test, axis=0)\n",
    "\n",
    "transformedImg = model([inputImg, affine_param_test])\n",
    "transformedImg = tf.squeeze(transformedImg)"
   ]
  },
  {
   "cell_type": "code",
   "execution_count": null,
   "metadata": {
    "scrolled": false
   },
   "outputs": [],
   "source": [
    "sliceToCheck_x = 25\n",
    "sliceToCheck_y = 100\n",
    "sliceToCheck_z = 100\n",
    "fig, axs = plt.subplots(3, 2, figsize=(15, 25))\n",
    "axs[0, 0].imshow(fixedImg[sliceToCheck_x, :, :])\n",
    "axs[0, 1].imshow(transformedImg[sliceToCheck_x, :, :])\n",
    "axs[1, 0].imshow(fixedImg[:, sliceToCheck_y, :])\n",
    "axs[1, 1].imshow(transformedImg[:, sliceToCheck_y, :])\n",
    "axs[2, 0].imshow(fixedImg[:, :, sliceToCheck_z])\n",
    "axs[2, 1].imshow(transformedImg[:, :, sliceToCheck_z])"
   ]
  },
  {
   "cell_type": "code",
   "execution_count": null,
   "metadata": {},
   "outputs": [],
   "source": []
  }
 ],
 "metadata": {
  "kernelspec": {
   "display_name": "Python 3",
   "language": "python",
   "name": "python3"
  },
  "language_info": {
   "codemirror_mode": {
    "name": "ipython",
    "version": 3
   },
   "file_extension": ".py",
   "mimetype": "text/x-python",
   "name": "python",
   "nbconvert_exporter": "python",
   "pygments_lexer": "ipython3",
   "version": "3.8.5"
  }
 },
 "nbformat": 4,
 "nbformat_minor": 5
}
