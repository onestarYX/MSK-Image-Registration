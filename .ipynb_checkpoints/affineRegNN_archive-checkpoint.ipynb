{
 "cells": [
  {
   "cell_type": "code",
   "execution_count": null,
   "metadata": {},
   "outputs": [],
   "source": [
    "import os\n",
    "import csv\n",
    "import numpy as np\n",
    "import matplotlib.pyplot as plt\n",
    "import scipy\n",
    "\n",
    "import tensorflow as tf\n",
    "from tensorflow import keras\n",
    "from tensorflow.keras import layers\n",
    "from tensorflow.keras import backend as K\n",
    "from tensorflow.keras.callbacks import ModelCheckpoint\n",
    "\n",
    "import random"
   ]
  },
  {
   "cell_type": "code",
   "execution_count": null,
   "metadata": {},
   "outputs": [],
   "source": [
    "import layers as custom_layers"
   ]
  },
  {
   "cell_type": "code",
   "execution_count": null,
   "metadata": {},
   "outputs": [],
   "source": [
    "# We renamed cusolver64_11.dll to cusolver64_10.dll to solve the compatibility issue.\n",
    "print(\"Num GPUs Available: \", len(tf.config.list_physical_devices('GPU')))"
   ]
  },
  {
   "cell_type": "code",
   "execution_count": null,
   "metadata": {},
   "outputs": [],
   "source": [
    "# File Paths\n",
    "imgIdxCsvPath = './MRNet/MRNet-v1.0/similar.csv'\n",
    "MRI_Path = './MRNet/MRNet-v1.0/train/axial/{}.npy'"
   ]
  },
  {
   "cell_type": "markdown",
   "metadata": {},
   "source": [
    "## Load self-generated training data (by data loaders)"
   ]
  },
  {
   "cell_type": "markdown",
   "metadata": {},
   "source": [
    "### Duplicate fixed image as labels"
   ]
  },
  {
   "cell_type": "code",
   "execution_count": null,
   "metadata": {},
   "outputs": [],
   "source": [
    "trainDataPath = \"./affineTrainingData/affine{}.npz\"\n",
    "trainDataSize = 2000\n",
    "fixedImg = np.load(MRI_Path.format(\"0701\"))\n",
    "fixedImg = np.expand_dims(fixedImg, axis=-1)\n",
    "fixedImg = fixedImg.astype('float')\n",
    "fixedImg = np.expand_dims(fixedImg, axis=0)\n",
    "\n",
    "def data_generator(batchSize = 1):\n",
    "    # TODO: Batchify the funciton.\n",
    "    while True:\n",
    "        idx = random.randrange(trainDataSize)\n",
    "        inputObj = np.load(trainDataPath.format(idx))\n",
    "        movingImg = inputObj['img']\n",
    "        movingImg = np.expand_dims(movingImg, axis=-1)\n",
    "        movingImg = movingImg.astype('float')\n",
    "        movingImg = np.expand_dims(movingImg, axis=0)\n",
    "\n",
    "        tgtAffineTrf = inputObj['trf']\n",
    "        tgtAffineTrf = np.expand_dims(tgtAffineTrf, axis=0)\n",
    "        \n",
    "        \n",
    "        yield ([fixedImg, tgtAffineTrf], movingImg)"
   ]
  },
  {
   "cell_type": "markdown",
   "metadata": {},
   "source": [
    "## NN with labels as fixed images"
   ]
  },
  {
   "cell_type": "code",
   "execution_count": null,
   "metadata": {
    "scrolled": false
   },
   "outputs": [],
   "source": [
    "# Get rid of the batch dimension\n",
    "imgInput = keras.Input(shape = list(fixedImg.shape)[1:])\n",
    "affineInput = keras.Input(shape = (12,))\n",
    "\n",
    "affine_warped = custom_layers.SpatialTransformer(interp_method='linear', add_identity=False, indexing=\"xy\")([imgInput, affineInput])\n",
    "print(affine_warped.shape)"
   ]
  },
  {
   "cell_type": "code",
   "execution_count": null,
   "metadata": {
    "scrolled": true
   },
   "outputs": [],
   "source": [
    "model = keras.Model(inputs=[imgInput, affineInput], outputs=affine_warped, name=\"combined_model\")\n",
    "model.summary()"
   ]
  },
  {
   "cell_type": "code",
   "execution_count": null,
   "metadata": {
    "scrolled": true
   },
   "outputs": [],
   "source": [
    "keras.utils.plot_model(model, \"test_model.png\", show_shapes=True)"
   ]
  },
  {
   "cell_type": "code",
   "execution_count": null,
   "metadata": {},
   "outputs": [],
   "source": [
    "dataGen = data_generator()\n",
    "input_test, label_test = next(dataGen)\n",
    "warped_test = model(input_test)"
   ]
  },
  {
   "cell_type": "code",
   "execution_count": null,
   "metadata": {},
   "outputs": [],
   "source": [
    "print(warped_test.shape)\n",
    "print(label_test.shape)"
   ]
  },
  {
   "cell_type": "code",
   "execution_count": null,
   "metadata": {},
   "outputs": [],
   "source": [
    "lr = 0.001\n",
    "optimizer = tf.keras.optimizers.Adam(learning_rate = lr)\n",
    "# loss_object = tf.keras.losses.MeanSquaredError()\n",
    "\n",
    "loss_history = []\n",
    "save_callback = ModelCheckpoint('./checkpoints/{epoch:02d}.h5')"
   ]
  },
  {
   "cell_type": "code",
   "execution_count": null,
   "metadata": {},
   "outputs": [],
   "source": [
    "model.compile(optimizer=optimizer,\n",
    "              loss={\"warped_image\":\"mean_squared_error\", \"affine_pred\":affine_loss},\n",
    "              loss_weights={\"warped_image\":1, \"affine_pred\":1},\n",
    "              run_eagerly=True)"
   ]
  },
  {
   "cell_type": "code",
   "execution_count": null,
   "metadata": {},
   "outputs": [],
   "source": [
    "dataGen = data_generator()"
   ]
  },
  {
   "cell_type": "code",
   "execution_count": null,
   "metadata": {
    "scrolled": false
   },
   "outputs": [],
   "source": [
    "model.fit(dataGen, epochs=20, steps_per_epoch=trainDataSize, callbacks=[save_callback])"
   ]
  },
  {
   "cell_type": "markdown",
   "metadata": {},
   "source": [
    "## Test model (output == warpedImg)"
   ]
  },
  {
   "cell_type": "code",
   "execution_count": null,
   "metadata": {},
   "outputs": [],
   "source": [
    "testModel = keras.Model(inputs=inputs, outputs=[deformable_warped, affine_pred])"
   ]
  },
  {
   "cell_type": "code",
   "execution_count": null,
   "metadata": {},
   "outputs": [],
   "source": [
    "# testModel.load_weights('./checkpoints/epoch_{}'.format(epochs-1))\n",
    "testModel.load_weights('./checkpoints/15.h5')"
   ]
  },
  {
   "cell_type": "code",
   "execution_count": null,
   "metadata": {},
   "outputs": [],
   "source": [
    "moving_test, label_test = next(dataGen)\n",
    "(warped_test, affine_pred_test) = testModel(moving_test)\n",
    "print(label_test[1])\n",
    "print(affine_pred_test)"
   ]
  },
  {
   "cell_type": "code",
   "execution_count": null,
   "metadata": {
    "scrolled": true
   },
   "outputs": [],
   "source": [
    "print(warped_test.shape)\n",
    "print(type(moving_test))\n",
    "print(np.sum(warped_test))"
   ]
  },
  {
   "cell_type": "code",
   "execution_count": null,
   "metadata": {
    "scrolled": false
   },
   "outputs": [],
   "source": [
    "sliceToCheck = 0\n",
    "fig, axs = plt.subplots(5, 3, figsize=(15, 35))\n",
    "for i in range(5):\n",
    "    axs[i, 0].imshow(fixedImg[0,sliceToCheck + i * 5,:,:,0])\n",
    "    axs[i, 0].set_title(\"Fixed Image\")\n",
    "    axs[i, 1].imshow(warped_test[0,sliceToCheck + i * 5,:,:,0])\n",
    "    axs[i, 1].set_title(\"Warped Image\")\n",
    "    axs[i, 2].imshow(label_test[0,sliceToCheck + i * 5,:,:,0])\n",
    "    axs[i, 2].set_title(\"Original Moving Image\")\n",
    "plt.show()"
   ]
  },
  {
   "cell_type": "code",
   "execution_count": null,
   "metadata": {},
   "outputs": [],
   "source": []
  },
  {
   "cell_type": "code",
   "execution_count": null,
   "metadata": {},
   "outputs": [],
   "source": []
  }
 ],
 "metadata": {
  "kernelspec": {
   "display_name": "Python 3",
   "language": "python",
   "name": "python3"
  },
  "language_info": {
   "codemirror_mode": {
    "name": "ipython",
    "version": 3
   },
   "file_extension": ".py",
   "mimetype": "text/x-python",
   "name": "python",
   "nbconvert_exporter": "python",
   "pygments_lexer": "ipython3",
   "version": "3.8.5"
  }
 },
 "nbformat": 4,
 "nbformat_minor": 4
}
