{
 "cells": [
  {
   "cell_type": "code",
   "execution_count": 2,
   "metadata": {},
   "outputs": [],
   "source": [
    "import glob\n",
    "import matplotlib.pyplot as plt\n",
    "import numpy as np\n",
    "import os\n",
    "import pandas as pd\n",
    "from scipy.io import loadmat"
   ]
  },
  {
   "cell_type": "code",
   "execution_count": 5,
   "metadata": {},
   "outputs": [
    {
     "name": "stdout",
     "output_type": "stream",
     "text": [
      "Current files is:  new_3.mat\n",
      "in .mat format (320, 320, 192)\n",
      "reshape of img (320, 320, 192)\n",
      "saving to .npz ...\n",
      "loading npz ...\n",
      "check shape ..\n",
      "(320, 320, 192)\n",
      "Current files is:  new_2.mat\n",
      "in .mat format (320, 320, 192)\n",
      "reshape of img (320, 320, 192)\n",
      "saving to .npz ...\n",
      "loading npz ...\n",
      "check shape ..\n",
      "(320, 320, 192)\n",
      "Current files is:  new_1.mat\n",
      "in .mat format (320, 320, 192)\n",
      "reshape of img (320, 320, 192)\n",
      "saving to .npz ...\n",
      "loading npz ...\n",
      "check shape ..\n",
      "(320, 320, 192)\n"
     ]
    }
   ],
   "source": [
    "count = 0 \n",
    "for file in glob.glob(os.path.join(\"Data\", '*.mat')):    \n",
    "\n",
    "    print(\"Current files is: \", file.split(\"/\")[1])\n",
    "    \n",
    "    warped = loadmat(file)\n",
    "    warped_data = warped['fix2_n'] # fix2_n\n",
    "    \n",
    "    print(\"in .mat format\", warped_data.shape)\n",
    "\n",
    "    #img = np.expand_dims(np.expand_dims(warped_data,axis=0), axis=-1)\n",
    "    \n",
    "    img = warped_data\n",
    "    print(\"reshape of img\", img.shape)\n",
    "\n",
    "    print(\"saving to .npz ...\")\n",
    "    name = 'im{}.npz'.format(count)\n",
    "    np.savez(\"Converted/\"+name, vol = img)\n",
    "\n",
    "    print(\"loading npz ...\")\n",
    "    data = np.load(\"Converted/\"+name)\n",
    "\n",
    "    print(\"check shape ..\")\n",
    "    print(data['vol'].shape)\n",
    "    \n",
    "    count += 1\n",
    "    \n",
    "    if count==3: break "
   ]
  },
  {
   "cell_type": "code",
   "execution_count": null,
   "metadata": {},
   "outputs": [],
   "source": []
  },
  {
   "cell_type": "code",
   "execution_count": null,
   "metadata": {},
   "outputs": [],
   "source": []
  }
 ],
 "metadata": {
  "kernelspec": {
   "display_name": "Python 3",
   "language": "python",
   "name": "python3"
  },
  "language_info": {
   "codemirror_mode": {
    "name": "ipython",
    "version": 3
   },
   "file_extension": ".py",
   "mimetype": "text/x-python",
   "name": "python",
   "nbconvert_exporter": "python",
   "pygments_lexer": "ipython3",
   "version": "3.6.10"
  }
 },
 "nbformat": 4,
 "nbformat_minor": 2
}
