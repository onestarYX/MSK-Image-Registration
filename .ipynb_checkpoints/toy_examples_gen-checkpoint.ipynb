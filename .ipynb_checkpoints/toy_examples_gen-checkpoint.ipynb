{
 "cells": [
  {
   "cell_type": "markdown",
   "metadata": {},
   "source": [
    "### Do not run the first 3 cells if this notebook is not at the Google Colab."
   ]
  },
  {
   "cell_type": "code",
   "execution_count": null,
   "metadata": {
    "colab": {
     "base_uri": "https://localhost:8080/"
    },
    "executionInfo": {
     "elapsed": 32744,
     "status": "ok",
     "timestamp": 1635841666684,
     "user": {
      "displayName": "MSK Lab",
      "photoUrl": "https://lh3.googleusercontent.com/a/default-user=s64",
      "userId": "06369511661258682397"
     },
     "user_tz": 420
    },
    "id": "w8HLWnsywhy3",
    "outputId": "4c8e9d3f-1497-435a-fca2-bd8fd9a0cf76"
   },
   "outputs": [],
   "source": [
    "from google.colab import drive\n",
    "drive.mount('/content/drive/')"
   ]
  },
  {
   "cell_type": "code",
   "execution_count": null,
   "metadata": {
    "colab": {
     "base_uri": "https://localhost:8080/"
    },
    "executionInfo": {
     "elapsed": 315,
     "status": "ok",
     "timestamp": 1635841669826,
     "user": {
      "displayName": "MSK Lab",
      "photoUrl": "https://lh3.googleusercontent.com/a/default-user=s64",
      "userId": "06369511661258682397"
     },
     "user_tz": 420
    },
    "id": "GN3ZZd5DwmIP",
    "outputId": "e1ee1466-8ea8-481f-f8fd-5632053f7b46"
   },
   "outputs": [],
   "source": [
    "%cd drive/MyDrive/Registration/"
   ]
  },
  {
   "cell_type": "code",
   "execution_count": null,
   "metadata": {
    "colab": {
     "base_uri": "https://localhost:8080/"
    },
    "executionInfo": {
     "elapsed": 4258,
     "status": "ok",
     "timestamp": 1635841675758,
     "user": {
      "displayName": "MSK Lab",
      "photoUrl": "https://lh3.googleusercontent.com/a/default-user=s64",
      "userId": "06369511661258682397"
     },
     "user_tz": 420
    },
    "id": "LNhvpQQmwtKN",
    "outputId": "a86bc4df-f125-4b85-e29d-f65fd4c408d1"
   },
   "outputs": [],
   "source": [
    "!pip install neurite"
   ]
  },
  {
   "cell_type": "code",
   "execution_count": 1,
   "metadata": {
    "id": "563df875"
   },
   "outputs": [],
   "source": [
    "import os\n",
    "import csv\n",
    "import numpy as np\n",
    "import matplotlib.pyplot as plt\n",
    "import scipy\n",
    "\n",
    "import tensorflow as tf\n",
    "from tensorflow import keras\n",
    "from tensorflow.keras import layers\n",
    "from tensorflow.keras import backend as K\n",
    "from tensorflow.keras.callbacks import ModelCheckpoint\n",
    "\n",
    "import random\n",
    "import math\n",
    "\n",
    "import layers as custom_layers"
   ]
  },
  {
   "cell_type": "code",
   "execution_count": 2,
   "metadata": {
    "id": "a7362b00"
   },
   "outputs": [],
   "source": [
    "fixed_img_ph = np.zeros((64, 256, 256))\n",
    "fixed_img_ph[3:60, 29:225, 29:225] = 1\n",
    "fixed_img_ph = np.asarray(fixed_img_ph).astype(np.float32)"
   ]
  },
  {
   "cell_type": "code",
   "execution_count": 3,
   "metadata": {
    "id": "a34efc82"
   },
   "outputs": [],
   "source": [
    "fixed_img_ph = np.expand_dims(fixed_img_ph, axis=-1)\n",
    "fixed_img_ph = np.expand_dims(fixed_img_ph, axis=0)"
   ]
  },
  {
   "cell_type": "code",
   "execution_count": 4,
   "metadata": {
    "colab": {
     "base_uri": "https://localhost:8080/"
    },
    "executionInfo": {
     "elapsed": 9642,
     "status": "ok",
     "timestamp": 1635841722607,
     "user": {
      "displayName": "MSK Lab",
      "photoUrl": "https://lh3.googleusercontent.com/a/default-user=s64",
      "userId": "06369511661258682397"
     },
     "user_tz": 420
    },
    "id": "969e7f09",
    "outputId": "9d2788c0-77cb-4325-d8a2-b86dc2bd7be3"
   },
   "outputs": [
    {
     "name": "stdout",
     "output_type": "stream",
     "text": [
      "WARNING:tensorflow:From C:\\Users\\yixing\\anaconda3\\lib\\site-packages\\tensorflow\\python\\util\\deprecation.py:605: calling map_fn_v2 (from tensorflow.python.ops.map_fn) with dtype is deprecated and will be removed in a future version.\n",
      "Instructions for updating:\n",
      "Use fn_output_signature instead\n",
      "(None, 64, 256, 256, 1)\n"
     ]
    }
   ],
   "source": [
    "# Get rid of the batch dimension\n",
    "img_input = keras.Input(shape = list(fixed_img_ph.shape)[1:])\n",
    "affine_input = keras.Input(shape = (12,))\n",
    "\n",
    "affine_warped = custom_layers.SpatialTransformer(interp_method='linear', add_identity=False, shift_center=True)([img_input, affine_input])\n",
    "print(affine_warped.shape)"
   ]
  },
  {
   "cell_type": "code",
   "execution_count": 5,
   "metadata": {
    "colab": {
     "base_uri": "https://localhost:8080/"
    },
    "executionInfo": {
     "elapsed": 307,
     "status": "ok",
     "timestamp": 1635841728344,
     "user": {
      "displayName": "MSK Lab",
      "photoUrl": "https://lh3.googleusercontent.com/a/default-user=s64",
      "userId": "06369511661258682397"
     },
     "user_tz": 420
    },
    "id": "d770961f",
    "outputId": "265a78b5-c997-4834-b048-a142aac51ac1"
   },
   "outputs": [
    {
     "name": "stdout",
     "output_type": "stream",
     "text": [
      "Model: \"affine_transformation\"\n",
      "__________________________________________________________________________________________________\n",
      "Layer (type)                    Output Shape         Param #     Connected to                     \n",
      "==================================================================================================\n",
      "input_1 (InputLayer)            [(None, 64, 256, 256 0                                            \n",
      "__________________________________________________________________________________________________\n",
      "input_2 (InputLayer)            [(None, 12)]         0                                            \n",
      "__________________________________________________________________________________________________\n",
      "spatial_transformer (SpatialTra (None, 64, 256, 256, 0           input_1[0][0]                    \n",
      "                                                                 input_2[0][0]                    \n",
      "==================================================================================================\n",
      "Total params: 0\n",
      "Trainable params: 0\n",
      "Non-trainable params: 0\n",
      "__________________________________________________________________________________________________\n"
     ]
    }
   ],
   "source": [
    "model = keras.Model(inputs=[img_input, affine_input], outputs=affine_warped, name=\"affine_transformation\")\n",
    "model.summary()"
   ]
  },
  {
   "cell_type": "code",
   "execution_count": 6,
   "metadata": {
    "id": "9b8dfc0f",
    "scrolled": false
   },
   "outputs": [],
   "source": [
    "def random_transform(fixed_img):\n",
    "    '''\n",
    "    Takes a fixed image and apply random affine transformation to it.\n",
    "    \n",
    "    fixed_img: Tensor: shape (1, W, H, D, 1)\n",
    "    \n",
    "    return: warped_img:  Tensor: shape(1, W, H, D, 1)\n",
    "            affine_param: ndarray: shape: (12,), this is the transformation parameter\n",
    "                                   we need to transform moving image back to the fixed image. \n",
    "    '''\n",
    "    translation = np.eye(4)\n",
    "    rotX = np.eye(4)\n",
    "    rotY = np.eye(4)\n",
    "    rotZ = np.eye(4)\n",
    "    scaling = np.eye(4)\n",
    "\n",
    "    # Constants\n",
    "    xTranslationRange = 5\n",
    "    yTranslationRange = 30\n",
    "    zTranslationRange = 30\n",
    "    xRotAngle = math.pi / random.uniform(8, 80)\n",
    "    yRotAngle = math.pi / random.uniform(40, 160)\n",
    "    zRotAngle = math.pi / random.uniform(40, 160)\n",
    "    scalingX = random.uniform(0.85, 1.15)\n",
    "    scalingY = random.uniform(0.85, 1.15)\n",
    "    scalingZ = random.uniform(0.85, 1.15)\n",
    "    \n",
    "    # Calculate affine transformation matrix\n",
    "    translation[0, 3] = xTranslationRange * random.random()\n",
    "    translation[1, 3] = yTranslationRange * random.random()\n",
    "    translation[2, 3] = zTranslationRange * random.random()\n",
    "\n",
    "    rotX[1, 1] = math.cos(xRotAngle)\n",
    "    rotX[1, 2] = math.sin(xRotAngle)\n",
    "    rotX[2, 1] = -math.sin(xRotAngle)\n",
    "    rotX[2, 2] = math.cos(xRotAngle)\n",
    "\n",
    "    rotY[0, 0] = math.cos(yRotAngle)\n",
    "    rotY[0, 2] = -math.sin(yRotAngle)\n",
    "    rotY[2, 0] = math.sin(yRotAngle)\n",
    "    rotY[2, 2] = math.cos(yRotAngle)\n",
    "\n",
    "    rotZ[0, 0] = math.cos(zRotAngle)\n",
    "    rotZ[0, 1] = -math.sin(zRotAngle)\n",
    "    rotZ[1, 0] = math.sin(zRotAngle)\n",
    "    rotZ[1, 1] = math.cos(zRotAngle)\n",
    "\n",
    "    scaling[0, 0] = scalingX\n",
    "    scaling[1, 1] = scalingY\n",
    "    scaling[2, 2] = scalingZ\n",
    "\n",
    "    transMat = translation @ rotZ @ rotY @ rotX @ scaling\n",
    "\n",
    "    # Affine transformation parameters to feed into VoxelMorph's transformation layer.\n",
    "    affine_param = transMat[0:3].flatten()\n",
    "    affine_param = np.expand_dims(affine_param, axis=0)\n",
    "\n",
    "    warped_img = model([fixed_img, affine_param])\n",
    "    \n",
    "    transMat_inv = np.linalg.inv(transMat)\n",
    "    affine_param_inv = transMat_inv[0:3].flatten().astype(np.float32)\n",
    "    \n",
    "    return warped_img, affine_param_inv"
   ]
  },
  {
   "cell_type": "markdown",
   "metadata": {
    "id": "cbd2410f"
   },
   "source": [
    "### For testing purposes: check random transformed image samples"
   ]
  },
  {
   "cell_type": "code",
   "execution_count": 9,
   "metadata": {
    "colab": {
     "base_uri": "https://localhost:8080/",
     "height": 1000
    },
    "executionInfo": {
     "elapsed": 1665,
     "status": "ok",
     "timestamp": 1635841801640,
     "user": {
      "displayName": "MSK Lab",
      "photoUrl": "https://lh3.googleusercontent.com/a/default-user=s64",
      "userId": "06369511661258682397"
     },
     "user_tz": 420
    },
    "id": "12f0c935",
    "outputId": "1c945e84-f38b-4851-bfa3-142bae164716",
    "scrolled": true
   },
   "outputs": [
    {
     "data": {
      "text/plain": [
       "<matplotlib.image.AxesImage at 0x1f0fa131be0>"
      ]
     },
     "execution_count": 9,
     "metadata": {},
     "output_type": "execute_result"
    },
    {
     "data": {
      "image/png": "[encoded data removed]",
      "text/plain": [
       "<Figure size 1080x1800 with 6 Axes>"
      ]
     },
     "metadata": {
      "needs_background": "light"
     },
     "output_type": "display_data"
    }
   ],
   "source": [
    "warped_img_test, _ = random_transform(fixed_img_ph)\n",
    "sliceToCheck_x = 25\n",
    "sliceToCheck_y = 100\n",
    "sliceToCheck_z = 100\n",
    "fig, axs = plt.subplots(3, 2, figsize=(15, 25))\n",
    "axs[0, 0].imshow(fixed_img_ph[0, sliceToCheck_x, :, :, 0])\n",
    "axs[0, 1].imshow(warped_img_test[0, sliceToCheck_x, :, :, 0])\n",
    "axs[1, 0].imshow(fixed_img_ph[0, :, sliceToCheck_y, :, 0])\n",
    "axs[1, 1].imshow(warped_img_test[0, :, sliceToCheck_y, :, 0])\n",
    "axs[2, 0].imshow(fixed_img_ph[0, :, :, sliceToCheck_z, 0])\n",
    "axs[2, 1].imshow(warped_img_test[0, :, :, sliceToCheck_z, 0])"
   ]
  },
  {
   "cell_type": "markdown",
   "metadata": {},
   "source": [
    "### Loop to generate training dataset"
   ]
  },
  {
   "cell_type": "code",
   "execution_count": 25,
   "metadata": {
    "colab": {
     "base_uri": "https://localhost:8080/"
    },
    "executionInfo": {
     "elapsed": 22480,
     "status": "ok",
     "timestamp": 1635841936424,
     "user": {
      "displayName": "MSK Lab",
      "photoUrl": "https://lh3.googleusercontent.com/a/default-user=s64",
      "userId": "06369511661258682397"
     },
     "user_tz": 420
    },
    "id": "0adddf14",
    "outputId": "60cc94d9-f710-4e93-d447-1dc70819b48a",
    "scrolled": false
   },
   "outputs": [
    {
     "name": "stdout",
     "output_type": "stream",
     "text": [
      "Milestone: file 0 has been saved.\n",
      "Milestone: file 10 has been saved.\n",
      "Milestone: file 20 has been saved.\n",
      "Milestone: file 30 has been saved.\n",
      "Milestone: file 40 has been saved.\n"
     ]
    }
   ],
   "source": [
    "num_pairs = 50\n",
    "single_fixed_img = False # True will make dataset only contain 1 fixed image; False otherwise.\n",
    "for i in range(num_pairs):\n",
    "    fixed_img = fixed_img_ph\n",
    "    path = \"./ToyTrainingData1/toy_affine{}.npz\"\n",
    "    if not single_fixed_img:\n",
    "        path = \"./ToyTrainingData2/toy_affine{}.npz\"\n",
    "        fixed_img, _ = random_transform(fixed_img)\n",
    "    \n",
    "    warped_img, affine_param = random_transform(fixed_img)\n",
    "    img_pair = tf.concat([fixed_img, warped_img], axis=-1)\n",
    "    \n",
    "    f = open(path.format(i), \"wb\")\n",
    "    np.savez(f, img_pair = img_pair, trf = affine_param)\n",
    "    f.close()\n",
    "    if (i % 10 == 0):\n",
    "        print(\"Milestone: file {} has been saved.\".format(i))"
   ]
  },
  {
   "cell_type": "markdown",
   "metadata": {
    "id": "2695a0fa"
   },
   "source": [
    "### Load and inspect random samples from generated dataset."
   ]
  },
  {
   "cell_type": "code",
   "execution_count": 37,
   "metadata": {
    "id": "1173526e"
   },
   "outputs": [],
   "source": [
    "num_pairs = 50\n",
    "path = \"./ToyTrainingData2/toy_affine{}.npz\"\n",
    "rand_idx = random.randrange(num_pairs)\n",
    "sample_obj = np.load(path.format(rand_idx))\n",
    "img_pair = sample_obj['img_pair']\n",
    "affine_param = sample_obj['trf']"
   ]
  },
  {
   "cell_type": "code",
   "execution_count": 27,
   "metadata": {
    "id": "8910556a"
   },
   "outputs": [
    {
     "name": "stdout",
     "output_type": "stream",
     "text": [
      "(1, 64, 256, 256, 2)\n",
      "(12,)\n"
     ]
    }
   ],
   "source": [
    "# print(img_pair.shape)\n",
    "# print(affine_param.shape)"
   ]
  },
  {
   "cell_type": "code",
   "execution_count": 38,
   "metadata": {},
   "outputs": [],
   "source": [
    "fixed_img_sample = img_pair[:, :, :, :, 0]\n",
    "moving_img_sample = img_pair[:, :, :, :, 1]\n",
    "recon_img_sample = model([moving_img_sample, affine_param])"
   ]
  },
  {
   "cell_type": "code",
   "execution_count": 29,
   "metadata": {},
   "outputs": [
    {
     "name": "stdout",
     "output_type": "stream",
     "text": [
      "(1, 64, 256, 256)\n",
      "(1, 64, 256, 256)\n",
      "(1, 64, 256, 256, 1)\n"
     ]
    }
   ],
   "source": [
    "# print(fixed_img_sample.shape)\n",
    "# print(moving_img_sample.shape)\n",
    "# print(recon_img_sample.shape)"
   ]
  },
  {
   "cell_type": "code",
   "execution_count": 39,
   "metadata": {},
   "outputs": [
    {
     "data": {
      "text/plain": [
       "<matplotlib.image.AxesImage at 0x1f0f8b63ac0>"
      ]
     },
     "execution_count": 39,
     "metadata": {},
     "output_type": "execute_result"
    },
    {
     "data": {
      "image/png": "[encoded data removed]",
      "text/plain": [
       "<Figure size 1080x720 with 3 Axes>"
      ]
     },
     "metadata": {
      "needs_background": "light"
     },
     "output_type": "display_data"
    }
   ],
   "source": [
    "slice_idx_x = 30\n",
    "fig, axs = plt.subplots(1, 3, figsize=(15, 10))\n",
    "axs[0].imshow(fixed_img_sample[0, slice_idx_x, :, :])\n",
    "axs[1].imshow(moving_img_sample[0, slice_idx_x, :, :])\n",
    "axs[2].imshow(recon_img_sample[0, slice_idx_x, :, :, 0])"
   ]
  },
  {
   "cell_type": "code",
   "execution_count": null,
   "metadata": {},
   "outputs": [],
   "source": []
  }
 ],
 "metadata": {
  "accelerator": "GPU",
  "colab": {
   "name": "toy_examples_gen.ipynb",
   "provenance": []
  },
  "interpreter": {
   "hash": "f986c902ef31d1b0ffb55da158cf6f70bbc11f074ea6d5c6624fb88e98d9aaa4"
  },
  "kernelspec": {
   "display_name": "Python 3",
   "language": "python",
   "name": "python3"
  },
  "language_info": {
   "codemirror_mode": {
    "name": "ipython",
    "version": 3
   },
   "file_extension": ".py",
   "mimetype": "text/x-python",
   "name": "python",
   "nbconvert_exporter": "python",
   "pygments_lexer": "ipython3",
   "version": "3.8.5"
  }
 },
 "nbformat": 4,
 "nbformat_minor": 5
}
