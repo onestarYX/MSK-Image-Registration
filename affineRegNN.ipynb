{
 "cells": [
  {
   "cell_type": "code",
   "execution_count": 1,
   "metadata": {},
   "outputs": [],
   "source": [
    "import os\n",
    "import csv\n",
    "import numpy as np\n",
    "import matplotlib.pyplot as plt\n",
    "import scipy\n",
    "\n",
    "import tensorflow as tf\n",
    "from tensorflow import keras\n",
    "from tensorflow.keras import layers\n",
    "from tensorflow.keras import backend as K\n",
    "from tensorflow.keras.callbacks import ModelCheckpoint\n",
    "\n",
    "import random"
   ]
  },
  {
   "cell_type": "code",
   "execution_count": 2,
   "metadata": {},
   "outputs": [],
   "source": [
    "import layers as custom_layers"
   ]
  },
  {
   "cell_type": "code",
   "execution_count": 3,
   "metadata": {},
   "outputs": [
    {
     "name": "stdout",
     "output_type": "stream",
     "text": [
      "Num GPUs Available:  1\n"
     ]
    }
   ],
   "source": [
    "# We renamed cusolver64_11.dll to cusolver64_10.dll to solve the compatibility issue.\n",
    "print(\"Num GPUs Available: \", len(tf.config.list_physical_devices('GPU')))"
   ]
  },
  {
   "cell_type": "code",
   "execution_count": 4,
   "metadata": {},
   "outputs": [],
   "source": [
    "# File Paths\n",
    "imgIdxCsvPath = './MRNet/MRNet-v1.0/similar.csv'\n",
    "MRI_Path = './MRNet/MRNet-v1.0/train/axial/{}.npy'"
   ]
  },
  {
   "cell_type": "markdown",
   "metadata": {},
   "source": [
    "## Load self-generated training data (by data loaders)"
   ]
  },
  {
   "cell_type": "markdown",
   "metadata": {},
   "source": [
    "### Duplicate fixed image as labels"
   ]
  },
  {
   "cell_type": "code",
   "execution_count": 5,
   "metadata": {},
   "outputs": [],
   "source": [
    "trainDataPath = \"./affineTrainingData/affine{}.npz\"\n",
    "trainDataSize = 200\n",
    "fixedImg = np.load(MRI_Path.format(\"0701\"))\n",
    "fixedImg = np.expand_dims(fixedImg, axis=-1)\n",
    "fixedImg = fixedImg.astype('float')\n",
    "fixedImg = np.expand_dims(fixedImg, axis=0)\n",
    "\n",
    "def data_generator(batchSize = 1):\n",
    "    # TODO: Batchify the funciton.\n",
    "    while True:\n",
    "        idx = random.randrange(trainDataSize)\n",
    "        inputObj = np.load(trainDataPath.format(idx))\n",
    "        movingImg = inputObj['img']\n",
    "        movingImg = np.expand_dims(movingImg, axis=-1)\n",
    "        movingImg = movingImg.astype('float')\n",
    "        movingImg = np.expand_dims(movingImg, axis=0)\n",
    "        imgPair = np.concatenate([movingImg, fixedImg], axis=4)\n",
    "\n",
    "        tgtAffineTrf = inputObj['trf']\n",
    "        tgtAffineTrf = np.expand_dims(tgtAffineTrf, axis=0)\n",
    "        \n",
    "        \n",
    "        yield (imgPair, [fixedImg, tgtAffineTrf])"
   ]
  },
  {
   "cell_type": "code",
   "execution_count": null,
   "metadata": {
    "scrolled": false
   },
   "outputs": [],
   "source": [
    "# Get rid of the batch dimension\n",
    "imgPairShape = list(fixedImg.shape)[1:]\n",
    "# Change the channel dimension to get the image pair shape\n",
    "imgPairShape[-1] = 2\n",
    "inputs = keras.Input(shape = imgPairShape)\n",
    "movingImg = tf.expand_dims(inputs[:, :, :, :, 0], axis = -1)\n",
    "phOutputImg = tf.expand_dims(inputs[:, :, :, :, 1], axis = -1, name=\"phOutputImg\")\n",
    "print(phOutputImg.shape)\n",
    "\n",
    "conv_temp_0 = layers.Conv3D(filters = 1, kernel_size = (10, 50, 50), strides = (2, 5, 5), activation = \"relu\")(inputs)\n",
    "filtered_conv_temp_0 = layers.MaxPool3D((2, 2, 2))(conv_temp_0)\n",
    "print(filtered_conv_temp_0.shape)\n",
    "flattened_temp = layers.Flatten()(filtered_conv_temp_0)\n",
    "affine_temp = layers.Dense(12, activation=\"relu\")(flattened_temp)\n",
    "\n",
    "model_temp = keras.Model(inputs=inputs, outputs=[phOutputImg, affine_temp], name=\"combined_model\")\n",
    "model_temp.summary()"
   ]
  },
  {
   "cell_type": "code",
   "execution_count": null,
   "metadata": {},
   "outputs": [],
   "source": [
    "keras.utils.plot_model(model_temp, \"temp.png\", show_shapes=True)"
   ]
  },
  {
   "cell_type": "code",
   "execution_count": null,
   "metadata": {},
   "outputs": [],
   "source": [
    "lr = 0.001\n",
    "optimizer = tf.keras.optimizers.Adam(learning_rate = lr)"
   ]
  },
  {
   "cell_type": "code",
   "execution_count": null,
   "metadata": {},
   "outputs": [],
   "source": [
    "model_temp.compile(optimizer=optimizer,\n",
    "              loss={\"tf.expand_dims_1\":\"mean_squared_error\", \"dense\":\"mean_squared_error\"},\n",
    "              loss_weights={\"tf.expand_dims_1\":1, \"dense\":10000})"
   ]
  },
  {
   "cell_type": "code",
   "execution_count": null,
   "metadata": {},
   "outputs": [],
   "source": [
    "dataGen = data_generator()"
   ]
  },
  {
   "cell_type": "code",
   "execution_count": null,
   "metadata": {
    "scrolled": false
   },
   "outputs": [],
   "source": [
    "model_temp.fit(dataGen, epochs=20, steps_per_epoch=200)"
   ]
  },
  {
   "cell_type": "code",
   "execution_count": null,
   "metadata": {},
   "outputs": [],
   "source": [
    "moving_test, label_test = next(dataGen)\n",
    "(warped_test, affine_pred_test) = model_temp(moving_test)\n",
    "print(label_test[1])\n",
    "print(affine_pred_test)"
   ]
  },
  {
   "cell_type": "markdown",
   "metadata": {},
   "source": [
    "## NN with labels as fixed images"
   ]
  },
  {
   "cell_type": "code",
   "execution_count": 11,
   "metadata": {},
   "outputs": [
    {
     "name": "stdout",
     "output_type": "stream",
     "text": [
      "<class 'tensorflow.python.framework.ops.EagerTensor'>\n",
      "<class 'numpy.ndarray'>\n"
     ]
    }
   ],
   "source": [
    "c = tf.constant([[1.0, 2.0], [3.0, 4.0]])\n",
    "print(type(c))\n",
    "print(type(fixedImg))"
   ]
  },
  {
   "cell_type": "code",
   "execution_count": 41,
   "metadata": {
    "scrolled": false
   },
   "outputs": [
    {
     "name": "stdout",
     "output_type": "stream",
     "text": [
      "(None, 52, 256, 256, 2)\n",
      "(None, 52, 256, 256, 1)\n",
      "conv_0: (None, 50, 247, 247, 2)\n",
      "conv_1: (None, 48, 233, 233, 8)\n",
      "filtered_conv_1: (None, 24, 116, 116, 8)\n",
      "conv_2: (None, 22, 102, 102, 32)\n",
      "filtered_conv_2: (None, 22, 51, 51, 32)\n",
      "conv_3: (None, 17, 32, 32, 8)\n",
      "conv_4: (None, 12, 23, 23, 1)\n",
      "(None, 12)\n",
      "convTransposed_3: (None, 17, 32, 32, 2)\n",
      "filtered_convTransposed_2: (None, 22, 51, 51, 16)\n",
      "convTransposed_2: (None, 22, 102, 102, 16)\n",
      "filtered_convTransposed_1: (None, 24, 116, 116, 32)\n",
      "convTransposed_1: (None, 48, 232, 232, 32)\n",
      "convTransposed_0: (None, 50, 247, 247, 16)\n",
      "deformation_field_pred: (None, 52, 256, 256, 3)\n",
      "(None, 52, 256, 256, 1)\n"
     ]
    }
   ],
   "source": [
    "# Get rid of the batch dimension\n",
    "imgPairShape = list(fixedImg.shape)[1:]\n",
    "# Change the channel dimension to get the image pair shape\n",
    "imgPairShape[-1] = 2\n",
    "inputs = keras.Input(shape = imgPairShape)\n",
    "print(inputs.shape)\n",
    "movingImg = tf.expand_dims(inputs[:, :, :, :, 0], axis = -1)\n",
    "print(movingImg.shape)\n",
    "\n",
    "down_depths = [2, 8, 32, 8, 1]\n",
    "up_depths = [2, 16, 32, 16, 3]\n",
    "\n",
    "conv_0 = layers.Conv3D(filters=down_depths[0], kernel_size=(3, 10, 10), activation=\"relu\")(inputs)\n",
    "print(\"conv_0: {}\".format(conv_0.shape))\n",
    "conv_1 = layers.Conv3D(filters=down_depths[1], kernel_size=(3, 15, 15), activation=\"relu\")(conv_0)\n",
    "print(\"conv_1: {}\".format(conv_1.shape))\n",
    "filtered_conv_1 = layers.MaxPool3D((2, 2, 2))(conv_1)\n",
    "print(\"filtered_conv_1: {}\".format(filtered_conv_1.shape))\n",
    "conv_2 = layers.Conv3D(filters=down_depths[2], kernel_size=(3, 15, 15), activation=\"relu\")(filtered_conv_1)\n",
    "print(\"conv_2: {}\".format(conv_2.shape))\n",
    "filtered_conv_2 = layers.MaxPool3D((1, 2, 2))(conv_2)\n",
    "print(\"filtered_conv_2: {}\".format(filtered_conv_2.shape))\n",
    "conv_3 = layers.Conv3D(filters=down_depths[3], kernel_size=(6, 20, 20), activation=\"relu\")(filtered_conv_2)\n",
    "print(\"conv_3: {}\".format(conv_3.shape))\n",
    "conv_4 = layers.Conv3D(filters=down_depths[4], kernel_size=(6, 10, 10), activation=\"relu\")(conv_3)\n",
    "print(\"conv_4: {}\".format(conv_4.shape))\n",
    "flattened = layers.Flatten()(conv_4)\n",
    "dense_0 = layers.Dense(256, activation=\"relu\")(flattened)\n",
    "rotation_scaling = layers.Dense(9, activation=\"relu\")(dense_0)\n",
    "translation = layers.Dense(3, activation=\"relu\")(dense_0)\n",
    "'''\n",
    "Using tf functions here. Maybe replace them with Keras layer ops?\n",
    "'''\n",
    "rot_scl_reshaped = tf.reshape(rotation_scaling, (-1, 3, 3))\n",
    "trans_reshaped = tf.reshape(translation, (-1, 3, 1))\n",
    "affine_pred = layers.Concatenate(axis=-1)([rot_scl_reshaped, trans_reshaped])\n",
    "affine_pred = layers.Reshape((12,), name=\"affine_pred\")(affine_pred)\n",
    "print(affine_pred.shape)\n",
    "\n",
    "convTransposed_3 = layers.Conv3DTranspose(filters=up_depths[0], kernel_size=(6, 10, 10), activation=\"relu\")(conv_4)\n",
    "print(\"convTransposed_3: {}\".format(convTransposed_3.shape))\n",
    "filtered_convTransposed_2 = layers.Conv3DTranspose(filters=up_depths[1], kernel_size=(6, 20, 20), activation=\"relu\")(convTransposed_3)\n",
    "print(\"filtered_convTransposed_2: {}\".format(filtered_convTransposed_2.shape))\n",
    "convTransposed_2 = layers.UpSampling3D((1, 2, 2))(filtered_convTransposed_2)\n",
    "print(\"convTransposed_2: {}\".format(convTransposed_2.shape))\n",
    "filtered_convTransposed_1 = layers.Conv3DTranspose(filters=up_depths[2], kernel_size=(3, 15, 15), activation=\"relu\")(convTransposed_2)\n",
    "print(\"filtered_convTransposed_1: {}\".format(filtered_convTransposed_1.shape))\n",
    "convTransposed_1 = layers.UpSampling3D((2, 2, 2))(filtered_convTransposed_1)\n",
    "print(\"convTransposed_1: {}\".format(convTransposed_1.shape))\n",
    "convTransposed_0 = layers.Conv3DTranspose(filters=up_depths[3], kernel_size=(3, 16, 16), activation=\"relu\")(convTransposed_1)\n",
    "print(\"convTransposed_0: {}\".format(convTransposed_0.shape))\n",
    "deformation_field_pred = layers.Conv3DTranspose(filters=up_depths[4], kernel_size=(3, 10, 10), activation=\"relu\")(convTransposed_0)\n",
    "print(\"deformation_field_pred: {}\".format(deformation_field_pred.shape))\n",
    "\n",
    "affine_warped = custom_layers.SpatialTransformer(interp_method='linear')([movingImg, affine_pred])\n",
    "deformable_warped = custom_layers.SpatialTransformer(interp_method='linear', add_identity=False, name=\"warped_image\")([affine_warped, deformation_field_pred])\n",
    "print(deformable_warped.shape)"
   ]
  },
  {
   "cell_type": "code",
   "execution_count": 42,
   "metadata": {
    "scrolled": false
   },
   "outputs": [
    {
     "name": "stdout",
     "output_type": "stream",
     "text": [
      "Model: \"combined_model\"\n",
      "__________________________________________________________________________________________________\n",
      "Layer (type)                    Output Shape         Param #     Connected to                     \n",
      "==================================================================================================\n",
      "input_26 (InputLayer)           [(None, 52, 256, 256 0                                            \n",
      "__________________________________________________________________________________________________\n",
      "conv3d_125 (Conv3D)             (None, 50, 247, 247, 1202        input_26[0][0]                   \n",
      "__________________________________________________________________________________________________\n",
      "conv3d_126 (Conv3D)             (None, 48, 233, 233, 10808       conv3d_125[0][0]                 \n",
      "__________________________________________________________________________________________________\n",
      "max_pooling3d_50 (MaxPooling3D) (None, 24, 116, 116, 0           conv3d_126[0][0]                 \n",
      "__________________________________________________________________________________________________\n",
      "conv3d_127 (Conv3D)             (None, 22, 102, 102, 172832      max_pooling3d_50[0][0]           \n",
      "__________________________________________________________________________________________________\n",
      "max_pooling3d_51 (MaxPooling3D) (None, 22, 51, 51, 3 0           conv3d_127[0][0]                 \n",
      "__________________________________________________________________________________________________\n",
      "conv3d_128 (Conv3D)             (None, 17, 32, 32, 8 614408      max_pooling3d_51[0][0]           \n",
      "__________________________________________________________________________________________________\n",
      "conv3d_129 (Conv3D)             (None, 12, 23, 23, 1 4801        conv3d_128[0][0]                 \n",
      "__________________________________________________________________________________________________\n",
      "flatten_25 (Flatten)            (None, 6348)         0           conv3d_129[0][0]                 \n",
      "__________________________________________________________________________________________________\n",
      "conv3d_transpose_100 (Conv3DTra (None, 17, 32, 32, 2 1202        conv3d_129[0][0]                 \n",
      "__________________________________________________________________________________________________\n",
      "dense_71 (Dense)                (None, 256)          1625344     flatten_25[0][0]                 \n",
      "__________________________________________________________________________________________________\n",
      "conv3d_transpose_101 (Conv3DTra (None, 22, 51, 51, 1 76816       conv3d_transpose_100[0][0]       \n",
      "__________________________________________________________________________________________________\n",
      "dense_72 (Dense)                (None, 9)            2313        dense_71[0][0]                   \n",
      "__________________________________________________________________________________________________\n",
      "dense_73 (Dense)                (None, 3)            771         dense_71[0][0]                   \n",
      "__________________________________________________________________________________________________\n",
      "up_sampling3d_40 (UpSampling3D) (None, 22, 102, 102, 0           conv3d_transpose_101[0][0]       \n",
      "__________________________________________________________________________________________________\n",
      "tf.reshape_61 (TFOpLambda)      (None, 3, 3)         0           dense_72[0][0]                   \n",
      "__________________________________________________________________________________________________\n",
      "tf.reshape_62 (TFOpLambda)      (None, 3, 1)         0           dense_73[0][0]                   \n",
      "__________________________________________________________________________________________________\n",
      "conv3d_transpose_102 (Conv3DTra (None, 24, 116, 116, 345632      up_sampling3d_40[0][0]           \n",
      "__________________________________________________________________________________________________\n",
      "tf.__operators__.getitem_25 (Sl (None, 52, 256, 256) 0           input_26[0][0]                   \n",
      "__________________________________________________________________________________________________\n",
      "concatenate_3 (Concatenate)     (None, 3, 4)         0           tf.reshape_61[0][0]              \n",
      "                                                                 tf.reshape_62[0][0]              \n",
      "__________________________________________________________________________________________________\n",
      "up_sampling3d_41 (UpSampling3D) (None, 48, 232, 232, 0           conv3d_transpose_102[0][0]       \n",
      "__________________________________________________________________________________________________\n",
      "tf.expand_dims_25 (TFOpLambda)  (None, 52, 256, 256, 0           tf.__operators__.getitem_25[0][0]\n",
      "__________________________________________________________________________________________________\n",
      "affine_pred (Reshape)           (None, 12)           0           concatenate_3[0][0]              \n",
      "__________________________________________________________________________________________________\n",
      "conv3d_transpose_103 (Conv3DTra (None, 50, 247, 247, 393232      up_sampling3d_41[0][0]           \n",
      "__________________________________________________________________________________________________\n",
      "spatial_transformer_25 (Spatial (None, 52, 256, 256, 0           tf.expand_dims_25[0][0]          \n",
      "                                                                 affine_pred[0][0]                \n",
      "__________________________________________________________________________________________________\n",
      "conv3d_transpose_104 (Conv3DTra (None, 52, 256, 256, 14403       conv3d_transpose_103[0][0]       \n",
      "__________________________________________________________________________________________________\n",
      "warped_image (SpatialTransforme (None, 52, 256, 256, 0           spatial_transformer_25[0][0]     \n",
      "                                                                 conv3d_transpose_104[0][0]       \n",
      "==================================================================================================\n",
      "Total params: 3,263,764\n",
      "Trainable params: 3,263,764\n",
      "Non-trainable params: 0\n",
      "__________________________________________________________________________________________________\n"
     ]
    }
   ],
   "source": [
    "model = keras.Model(inputs=inputs, outputs=[deformable_warped, affine_pred], name=\"combined_model\")\n",
    "model.summary()"
   ]
  },
  {
   "cell_type": "code",
   "execution_count": null,
   "metadata": {},
   "outputs": [],
   "source": [
    "keras.utils.plot_model(model, \"basic_unet.png\", show_shapes=True)"
   ]
  },
  {
   "cell_type": "code",
   "execution_count": 25,
   "metadata": {},
   "outputs": [],
   "source": [
    "lr = 0.001\n",
    "optimizer = tf.keras.optimizers.Adam(learning_rate = lr)\n",
    "# loss_object = tf.keras.losses.MeanSquaredError()\n",
    "\n",
    "loss_history = []\n",
    "save_callback = ModelCheckpoint('./checkpoints/{epoch:02d}.h5')"
   ]
  },
  {
   "cell_type": "code",
   "execution_count": null,
   "metadata": {},
   "outputs": [],
   "source": [
    "\"\"\"\n",
    "y = (deformed_img, affine_trf)\n",
    "\"\"\"\n",
    "# def custom_loss(y_actual, y_pred):\n",
    "#     fixed_img = y_actual[0]\n",
    "#     deformed_img = y_pred[0]\n",
    "#     tgtAffineTrf = y_actual[1]\n",
    "#     predAffineTrf = y_pred[1]\n",
    "#     mse = tf.keras.losses.MeanSquaredError()\n",
    "#     deformation_loss = mse(fixed_img, deformed_img)\n",
    "#     affine_loss = mse(tgtAffineTrf, predAffineTrf)\n",
    "#     return deformation_loss + affine_loss"
   ]
  },
  {
   "cell_type": "code",
   "execution_count": 43,
   "metadata": {},
   "outputs": [],
   "source": [
    "model.compile(optimizer=optimizer,\n",
    "              loss={\"warped_image\":\"mean_squared_error\", \"affine_pred\":\"mean_squared_error\"},\n",
    "              loss_weights={\"warped_image\":1, \"affine_pred\":10000})"
   ]
  },
  {
   "cell_type": "code",
   "execution_count": 44,
   "metadata": {},
   "outputs": [],
   "source": [
    "dataGen = data_generator()"
   ]
  },
  {
   "cell_type": "code",
   "execution_count": 45,
   "metadata": {
    "scrolled": false
   },
   "outputs": [
    {
     "name": "stdout",
     "output_type": "stream",
     "text": [
      "Epoch 1/20\n",
      " 18/200 [=>............................] - ETA: 38:21 - loss: 693516.6311 - warped_image_loss: 3931.4943 - affine_pred_loss: 68.9585"
     ]
    },
    {
     "ename": "KeyboardInterrupt",
     "evalue": "",
     "output_type": "error",
     "traceback": [
      "\u001b[1;31m---------------------------------------------------------------------------\u001b[0m",
      "\u001b[1;31mKeyboardInterrupt\u001b[0m                         Traceback (most recent call last)",
      "\u001b[1;32m<ipython-input-45-b77ec2c64afe>\u001b[0m in \u001b[0;36m<module>\u001b[1;34m\u001b[0m\n\u001b[1;32m----> 1\u001b[1;33m \u001b[0mmodel\u001b[0m\u001b[1;33m.\u001b[0m\u001b[0mfit\u001b[0m\u001b[1;33m(\u001b[0m\u001b[0mdataGen\u001b[0m\u001b[1;33m,\u001b[0m \u001b[0mepochs\u001b[0m\u001b[1;33m=\u001b[0m\u001b[1;36m20\u001b[0m\u001b[1;33m,\u001b[0m \u001b[0msteps_per_epoch\u001b[0m\u001b[1;33m=\u001b[0m\u001b[0mtrainDataSize\u001b[0m\u001b[1;33m,\u001b[0m \u001b[0mcallbacks\u001b[0m\u001b[1;33m=\u001b[0m\u001b[1;33m[\u001b[0m\u001b[0msave_callback\u001b[0m\u001b[1;33m]\u001b[0m\u001b[1;33m)\u001b[0m\u001b[1;33m\u001b[0m\u001b[1;33m\u001b[0m\u001b[0m\n\u001b[0m",
      "\u001b[1;32mD:\\Programs\\Anaconda\\envs\\msk_img_registration\\lib\\site-packages\\tensorflow\\python\\keras\\engine\\training.py\u001b[0m in \u001b[0;36mfit\u001b[1;34m(self, x, y, batch_size, epochs, verbose, callbacks, validation_split, validation_data, shuffle, class_weight, sample_weight, initial_epoch, steps_per_epoch, validation_steps, validation_batch_size, validation_freq, max_queue_size, workers, use_multiprocessing)\u001b[0m\n\u001b[0;32m   1098\u001b[0m                 _r=1):\n\u001b[0;32m   1099\u001b[0m               \u001b[0mcallbacks\u001b[0m\u001b[1;33m.\u001b[0m\u001b[0mon_train_batch_begin\u001b[0m\u001b[1;33m(\u001b[0m\u001b[0mstep\u001b[0m\u001b[1;33m)\u001b[0m\u001b[1;33m\u001b[0m\u001b[1;33m\u001b[0m\u001b[0m\n\u001b[1;32m-> 1100\u001b[1;33m               \u001b[0mtmp_logs\u001b[0m \u001b[1;33m=\u001b[0m \u001b[0mself\u001b[0m\u001b[1;33m.\u001b[0m\u001b[0mtrain_function\u001b[0m\u001b[1;33m(\u001b[0m\u001b[0miterator\u001b[0m\u001b[1;33m)\u001b[0m\u001b[1;33m\u001b[0m\u001b[1;33m\u001b[0m\u001b[0m\n\u001b[0m\u001b[0;32m   1101\u001b[0m               \u001b[1;32mif\u001b[0m \u001b[0mdata_handler\u001b[0m\u001b[1;33m.\u001b[0m\u001b[0mshould_sync\u001b[0m\u001b[1;33m:\u001b[0m\u001b[1;33m\u001b[0m\u001b[1;33m\u001b[0m\u001b[0m\n\u001b[0;32m   1102\u001b[0m                 \u001b[0mcontext\u001b[0m\u001b[1;33m.\u001b[0m\u001b[0masync_wait\u001b[0m\u001b[1;33m(\u001b[0m\u001b[1;33m)\u001b[0m\u001b[1;33m\u001b[0m\u001b[1;33m\u001b[0m\u001b[0m\n",
      "\u001b[1;32mD:\\Programs\\Anaconda\\envs\\msk_img_registration\\lib\\site-packages\\tensorflow\\python\\eager\\def_function.py\u001b[0m in \u001b[0;36m__call__\u001b[1;34m(self, *args, **kwds)\u001b[0m\n\u001b[0;32m    826\u001b[0m     \u001b[0mtracing_count\u001b[0m \u001b[1;33m=\u001b[0m \u001b[0mself\u001b[0m\u001b[1;33m.\u001b[0m\u001b[0mexperimental_get_tracing_count\u001b[0m\u001b[1;33m(\u001b[0m\u001b[1;33m)\u001b[0m\u001b[1;33m\u001b[0m\u001b[1;33m\u001b[0m\u001b[0m\n\u001b[0;32m    827\u001b[0m     \u001b[1;32mwith\u001b[0m \u001b[0mtrace\u001b[0m\u001b[1;33m.\u001b[0m\u001b[0mTrace\u001b[0m\u001b[1;33m(\u001b[0m\u001b[0mself\u001b[0m\u001b[1;33m.\u001b[0m\u001b[0m_name\u001b[0m\u001b[1;33m)\u001b[0m \u001b[1;32mas\u001b[0m \u001b[0mtm\u001b[0m\u001b[1;33m:\u001b[0m\u001b[1;33m\u001b[0m\u001b[1;33m\u001b[0m\u001b[0m\n\u001b[1;32m--> 828\u001b[1;33m       \u001b[0mresult\u001b[0m \u001b[1;33m=\u001b[0m \u001b[0mself\u001b[0m\u001b[1;33m.\u001b[0m\u001b[0m_call\u001b[0m\u001b[1;33m(\u001b[0m\u001b[1;33m*\u001b[0m\u001b[0margs\u001b[0m\u001b[1;33m,\u001b[0m \u001b[1;33m**\u001b[0m\u001b[0mkwds\u001b[0m\u001b[1;33m)\u001b[0m\u001b[1;33m\u001b[0m\u001b[1;33m\u001b[0m\u001b[0m\n\u001b[0m\u001b[0;32m    829\u001b[0m       \u001b[0mcompiler\u001b[0m \u001b[1;33m=\u001b[0m \u001b[1;34m\"xla\"\u001b[0m \u001b[1;32mif\u001b[0m \u001b[0mself\u001b[0m\u001b[1;33m.\u001b[0m\u001b[0m_experimental_compile\u001b[0m \u001b[1;32melse\u001b[0m \u001b[1;34m\"nonXla\"\u001b[0m\u001b[1;33m\u001b[0m\u001b[1;33m\u001b[0m\u001b[0m\n\u001b[0;32m    830\u001b[0m       \u001b[0mnew_tracing_count\u001b[0m \u001b[1;33m=\u001b[0m \u001b[0mself\u001b[0m\u001b[1;33m.\u001b[0m\u001b[0mexperimental_get_tracing_count\u001b[0m\u001b[1;33m(\u001b[0m\u001b[1;33m)\u001b[0m\u001b[1;33m\u001b[0m\u001b[1;33m\u001b[0m\u001b[0m\n",
      "\u001b[1;32mD:\\Programs\\Anaconda\\envs\\msk_img_registration\\lib\\site-packages\\tensorflow\\python\\eager\\def_function.py\u001b[0m in \u001b[0;36m_call\u001b[1;34m(self, *args, **kwds)\u001b[0m\n\u001b[0;32m    853\u001b[0m       \u001b[1;31m# In this case we have created variables on the first call, so we run the\u001b[0m\u001b[1;33m\u001b[0m\u001b[1;33m\u001b[0m\u001b[1;33m\u001b[0m\u001b[0m\n\u001b[0;32m    854\u001b[0m       \u001b[1;31m# defunned version which is guaranteed to never create variables.\u001b[0m\u001b[1;33m\u001b[0m\u001b[1;33m\u001b[0m\u001b[1;33m\u001b[0m\u001b[0m\n\u001b[1;32m--> 855\u001b[1;33m       \u001b[1;32mreturn\u001b[0m \u001b[0mself\u001b[0m\u001b[1;33m.\u001b[0m\u001b[0m_stateless_fn\u001b[0m\u001b[1;33m(\u001b[0m\u001b[1;33m*\u001b[0m\u001b[0margs\u001b[0m\u001b[1;33m,\u001b[0m \u001b[1;33m**\u001b[0m\u001b[0mkwds\u001b[0m\u001b[1;33m)\u001b[0m  \u001b[1;31m# pylint: disable=not-callable\u001b[0m\u001b[1;33m\u001b[0m\u001b[1;33m\u001b[0m\u001b[0m\n\u001b[0m\u001b[0;32m    856\u001b[0m     \u001b[1;32melif\u001b[0m \u001b[0mself\u001b[0m\u001b[1;33m.\u001b[0m\u001b[0m_stateful_fn\u001b[0m \u001b[1;32mis\u001b[0m \u001b[1;32mnot\u001b[0m \u001b[1;32mNone\u001b[0m\u001b[1;33m:\u001b[0m\u001b[1;33m\u001b[0m\u001b[1;33m\u001b[0m\u001b[0m\n\u001b[0;32m    857\u001b[0m       \u001b[1;31m# Release the lock early so that multiple threads can perform the call\u001b[0m\u001b[1;33m\u001b[0m\u001b[1;33m\u001b[0m\u001b[1;33m\u001b[0m\u001b[0m\n",
      "\u001b[1;32mD:\\Programs\\Anaconda\\envs\\msk_img_registration\\lib\\site-packages\\tensorflow\\python\\eager\\function.py\u001b[0m in \u001b[0;36m__call__\u001b[1;34m(self, *args, **kwargs)\u001b[0m\n\u001b[0;32m   2940\u001b[0m       (graph_function,\n\u001b[0;32m   2941\u001b[0m        filtered_flat_args) = self._maybe_define_function(args, kwargs)\n\u001b[1;32m-> 2942\u001b[1;33m     return graph_function._call_flat(\n\u001b[0m\u001b[0;32m   2943\u001b[0m         filtered_flat_args, captured_inputs=graph_function.captured_inputs)  # pylint: disable=protected-access\n\u001b[0;32m   2944\u001b[0m \u001b[1;33m\u001b[0m\u001b[0m\n",
      "\u001b[1;32mD:\\Programs\\Anaconda\\envs\\msk_img_registration\\lib\\site-packages\\tensorflow\\python\\eager\\function.py\u001b[0m in \u001b[0;36m_call_flat\u001b[1;34m(self, args, captured_inputs, cancellation_manager)\u001b[0m\n\u001b[0;32m   1916\u001b[0m         and executing_eagerly):\n\u001b[0;32m   1917\u001b[0m       \u001b[1;31m# No tape is watching; skip to running the function.\u001b[0m\u001b[1;33m\u001b[0m\u001b[1;33m\u001b[0m\u001b[1;33m\u001b[0m\u001b[0m\n\u001b[1;32m-> 1918\u001b[1;33m       return self._build_call_outputs(self._inference_function.call(\n\u001b[0m\u001b[0;32m   1919\u001b[0m           ctx, args, cancellation_manager=cancellation_manager))\n\u001b[0;32m   1920\u001b[0m     forward_backward = self._select_forward_and_backward_functions(\n",
      "\u001b[1;32mD:\\Programs\\Anaconda\\envs\\msk_img_registration\\lib\\site-packages\\tensorflow\\python\\eager\\function.py\u001b[0m in \u001b[0;36mcall\u001b[1;34m(self, ctx, args, cancellation_manager)\u001b[0m\n\u001b[0;32m    553\u001b[0m       \u001b[1;32mwith\u001b[0m \u001b[0m_InterpolateFunctionError\u001b[0m\u001b[1;33m(\u001b[0m\u001b[0mself\u001b[0m\u001b[1;33m)\u001b[0m\u001b[1;33m:\u001b[0m\u001b[1;33m\u001b[0m\u001b[1;33m\u001b[0m\u001b[0m\n\u001b[0;32m    554\u001b[0m         \u001b[1;32mif\u001b[0m \u001b[0mcancellation_manager\u001b[0m \u001b[1;32mis\u001b[0m \u001b[1;32mNone\u001b[0m\u001b[1;33m:\u001b[0m\u001b[1;33m\u001b[0m\u001b[1;33m\u001b[0m\u001b[0m\n\u001b[1;32m--> 555\u001b[1;33m           outputs = execute.execute(\n\u001b[0m\u001b[0;32m    556\u001b[0m               \u001b[0mstr\u001b[0m\u001b[1;33m(\u001b[0m\u001b[0mself\u001b[0m\u001b[1;33m.\u001b[0m\u001b[0msignature\u001b[0m\u001b[1;33m.\u001b[0m\u001b[0mname\u001b[0m\u001b[1;33m)\u001b[0m\u001b[1;33m,\u001b[0m\u001b[1;33m\u001b[0m\u001b[1;33m\u001b[0m\u001b[0m\n\u001b[0;32m    557\u001b[0m               \u001b[0mnum_outputs\u001b[0m\u001b[1;33m=\u001b[0m\u001b[0mself\u001b[0m\u001b[1;33m.\u001b[0m\u001b[0m_num_outputs\u001b[0m\u001b[1;33m,\u001b[0m\u001b[1;33m\u001b[0m\u001b[1;33m\u001b[0m\u001b[0m\n",
      "\u001b[1;32mD:\\Programs\\Anaconda\\envs\\msk_img_registration\\lib\\site-packages\\tensorflow\\python\\eager\\execute.py\u001b[0m in \u001b[0;36mquick_execute\u001b[1;34m(op_name, num_outputs, inputs, attrs, ctx, name)\u001b[0m\n\u001b[0;32m     57\u001b[0m   \u001b[1;32mtry\u001b[0m\u001b[1;33m:\u001b[0m\u001b[1;33m\u001b[0m\u001b[1;33m\u001b[0m\u001b[0m\n\u001b[0;32m     58\u001b[0m     \u001b[0mctx\u001b[0m\u001b[1;33m.\u001b[0m\u001b[0mensure_initialized\u001b[0m\u001b[1;33m(\u001b[0m\u001b[1;33m)\u001b[0m\u001b[1;33m\u001b[0m\u001b[1;33m\u001b[0m\u001b[0m\n\u001b[1;32m---> 59\u001b[1;33m     tensors = pywrap_tfe.TFE_Py_Execute(ctx._handle, device_name, op_name,\n\u001b[0m\u001b[0;32m     60\u001b[0m                                         inputs, attrs, num_outputs)\n\u001b[0;32m     61\u001b[0m   \u001b[1;32mexcept\u001b[0m \u001b[0mcore\u001b[0m\u001b[1;33m.\u001b[0m\u001b[0m_NotOkStatusException\u001b[0m \u001b[1;32mas\u001b[0m \u001b[0me\u001b[0m\u001b[1;33m:\u001b[0m\u001b[1;33m\u001b[0m\u001b[1;33m\u001b[0m\u001b[0m\n",
      "\u001b[1;31mKeyboardInterrupt\u001b[0m: "
     ]
    }
   ],
   "source": [
    "model.fit(dataGen, epochs=20, steps_per_epoch=trainDataSize, callbacks=[save_callback])"
   ]
  },
  {
   "cell_type": "markdown",
   "metadata": {},
   "source": [
    "## Test model (output == warpedImg)"
   ]
  },
  {
   "cell_type": "code",
   "execution_count": null,
   "metadata": {},
   "outputs": [],
   "source": [
    "testModel = keras.Model(inputs=inputs, outputs=[deformable_warped, affine_pred])"
   ]
  },
  {
   "cell_type": "code",
   "execution_count": null,
   "metadata": {},
   "outputs": [],
   "source": [
    "# testModel.load_weights('./checkpoints/epoch_{}'.format(epochs-1))\n",
    "testModel.load_weights('./checkpoints/03.h5')"
   ]
  },
  {
   "cell_type": "code",
   "execution_count": null,
   "metadata": {},
   "outputs": [],
   "source": [
    "print(testModel.layers[17].get_weights()[0].shape)"
   ]
  },
  {
   "cell_type": "code",
   "execution_count": null,
   "metadata": {},
   "outputs": [],
   "source": [
    "moving_test, label_test = next(dataGen)\n",
    "(warped_test, affine_pred_test) = testModel(moving_test)\n",
    "print(label_test[1])\n",
    "print(affine_pred_test)"
   ]
  },
  {
   "cell_type": "code",
   "execution_count": null,
   "metadata": {
    "scrolled": true
   },
   "outputs": [],
   "source": [
    "print(warped_test.shape)\n",
    "print(type(moving_test))\n",
    "print(np.sum(warped_test))"
   ]
  },
  {
   "cell_type": "code",
   "execution_count": null,
   "metadata": {
    "scrolled": false
   },
   "outputs": [],
   "source": [
    "sliceToCheck = 0\n",
    "fig, axs = plt.subplots(5, 3, figsize=(15, 35))\n",
    "for i in range(5):\n",
    "    axs[i, 0].imshow(fixedImg[0,sliceToCheck + i * 5,:,:,0])\n",
    "    axs[i, 0].set_title(\"Fixed Image\")\n",
    "    axs[i, 1].imshow(moving_test[0,sliceToCheck + i * 5,:,:,0])\n",
    "    axs[i, 1].set_title(\"Moving Image\")\n",
    "    axs[i, 2].imshow(warped_test[0,sliceToCheck + i * 5,:,:,0])\n",
    "    axs[i, 2].set_title(\"Warped Image\")\n",
    "plt.show()"
   ]
  },
  {
   "cell_type": "code",
   "execution_count": null,
   "metadata": {},
   "outputs": [],
   "source": []
  },
  {
   "cell_type": "code",
   "execution_count": null,
   "metadata": {},
   "outputs": [],
   "source": []
  }
 ],
 "metadata": {
  "kernelspec": {
   "display_name": "Python 3",
   "language": "python",
   "name": "python3"
  },
  "language_info": {
   "codemirror_mode": {
    "name": "ipython",
    "version": 3
   },
   "file_extension": ".py",
   "mimetype": "text/x-python",
   "name": "python",
   "nbconvert_exporter": "python",
   "pygments_lexer": "ipython3",
   "version": "3.8.5"
  }
 },
 "nbformat": 4,
 "nbformat_minor": 4
}
