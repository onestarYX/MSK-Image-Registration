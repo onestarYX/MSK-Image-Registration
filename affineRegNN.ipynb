{
 "cells": [
  {
   "cell_type": "code",
   "execution_count": 1,
   "metadata": {},
   "outputs": [],
   "source": [
    "import os\n",
    "import csv\n",
    "import numpy as np\n",
    "import matplotlib.pyplot as plt\n",
    "import scipy\n",
    "\n",
    "import tensorflow as tf\n",
    "from tensorflow import keras\n",
    "from tensorflow.keras import layers\n",
    "from tensorflow.keras import backend as K\n",
    "from tensorflow.keras.callbacks import ModelCheckpoint\n",
    "\n",
    "import random"
   ]
  },
  {
   "cell_type": "code",
   "execution_count": 2,
   "metadata": {},
   "outputs": [],
   "source": [
    "import layers as custom_layers"
   ]
  },
  {
   "cell_type": "code",
   "execution_count": 3,
   "metadata": {},
   "outputs": [
    {
     "name": "stdout",
     "output_type": "stream",
     "text": [
      "Num GPUs Available:  0\n"
     ]
    }
   ],
   "source": [
    "print(\"Num GPUs Available: \", len(tf.config.list_physical_devices('GPU')))"
   ]
  },
  {
   "cell_type": "code",
   "execution_count": 4,
   "metadata": {},
   "outputs": [],
   "source": [
    "# File Paths\n",
    "imgIdxCsvPath = './MRNet/MRNet-v1.0/similar.csv'\n",
    "MRI_Path = './MRNet/MRNet-v1.0/train/axial/{}.npy'"
   ]
  },
  {
   "cell_type": "code",
   "execution_count": null,
   "metadata": {},
   "outputs": [],
   "source": [
    "# Get indices of qualified training images in MRNet.\n",
    "imageIndices = []\n",
    "with open(imgIdxCsvPath) as file:\n",
    "    fileReader = csv.reader(file)\n",
    "    # Find all the rows with abnormal as 0 and store their indices\n",
    "    for row in fileReader:\n",
    "        index = str(row[0])\n",
    "        while(len(index) < 4):\n",
    "            index = '0' + index\n",
    "        imageIndices.append(index)"
   ]
  },
  {
   "cell_type": "code",
   "execution_count": null,
   "metadata": {
    "scrolled": true
   },
   "outputs": [],
   "source": [
    "print(imageIndices)"
   ]
  },
  {
   "cell_type": "code",
   "execution_count": null,
   "metadata": {
    "scrolled": true
   },
   "outputs": [],
   "source": [
    "# Check which image has most slices, then we use it as our atlas/target/fixed image.\n",
    "maxSlice = 0\n",
    "targetIndex = None\n",
    "for index in imageIndices:\n",
    "    img = np.load(MRI_Path.format(index))\n",
    "    if (img.shape[0] > maxSlice):\n",
    "        targetIndex = index\n",
    "        maxSlice = img.shape[0]\n",
    "    \n",
    "print(maxSlice)\n",
    "print(targetIndex)"
   ]
  },
  {
   "cell_type": "markdown",
   "metadata": {},
   "source": [
    "## Load all qualified images into memory"
   ]
  },
  {
   "cell_type": "code",
   "execution_count": null,
   "metadata": {},
   "outputs": [],
   "source": [
    "# Load fixed image.\n",
    "fixedImg = np.load(MRI_Path.format(targetIndex))"
   ]
  },
  {
   "cell_type": "code",
   "execution_count": null,
   "metadata": {},
   "outputs": [],
   "source": [
    "# Load moving images and zero-pad them.\n",
    "movingImgs = []\n",
    "# limit = 30\n",
    "# counter = 0\n",
    "for index in imageIndices:\n",
    "    if index == targetIndex:\n",
    "        continue\n",
    "#     if counter == limit:\n",
    "#         break\n",
    "    img = np.load(MRI_Path.format(index))\n",
    "    numSlicesToPaddle = maxSlice - img.shape[0]\n",
    "    img = np.pad(img, ((0, numSlicesToPaddle), (0, 0), (0, 0)))\n",
    "    movingImgs.append(img)\n",
    "#     counter += 1"
   ]
  },
  {
   "cell_type": "code",
   "execution_count": null,
   "metadata": {},
   "outputs": [],
   "source": [
    "# Append the channel axis to moving images and the fixed image.\n",
    "fixedImg = np.expand_dims(fixedImg, axis=-1)\n",
    "for i in range(len(movingImgs)):\n",
    "    movingImgs[i] = np.expand_dims(movingImgs[i], axis=-1)\n",
    "print(movingImgs[0].shape)\n",
    "print(fixedImg.shape)"
   ]
  },
  {
   "cell_type": "code",
   "execution_count": null,
   "metadata": {},
   "outputs": [],
   "source": [
    "movingImgs = np.array(movingImgs)\n",
    "print(movingImgs.shape)"
   ]
  },
  {
   "cell_type": "code",
   "execution_count": null,
   "metadata": {
    "scrolled": true
   },
   "outputs": [],
   "source": [
    "fixedImgs = np.repeat(fixedImg[np.newaxis,...], movingImgs.shape[0], axis = 0)\n",
    "print(fixedImgs.shape)"
   ]
  },
  {
   "cell_type": "code",
   "execution_count": null,
   "metadata": {},
   "outputs": [],
   "source": [
    "print(movingImgs.dtype)"
   ]
  },
  {
   "cell_type": "code",
   "execution_count": null,
   "metadata": {},
   "outputs": [],
   "source": [
    "movingImgs = movingImgs.astype('float32')\n",
    "fixedImgs = fixedImgs.astype('float32')"
   ]
  },
  {
   "cell_type": "code",
   "execution_count": null,
   "metadata": {},
   "outputs": [],
   "source": [
    "print(movingImgs.dtype)"
   ]
  },
  {
   "cell_type": "code",
   "execution_count": null,
   "metadata": {},
   "outputs": [],
   "source": [
    "dataset = tf.data.Dataset.from_tensor_slices((movingImgs, fixedImgs))\n",
    "batch_size = 1\n",
    "dataset.batch(batch_size)"
   ]
  },
  {
   "cell_type": "code",
   "execution_count": null,
   "metadata": {},
   "outputs": [],
   "source": [
    "print(dataset.element_spec)"
   ]
  },
  {
   "cell_type": "markdown",
   "metadata": {},
   "source": [
    "## Load data by data generators"
   ]
  },
  {
   "cell_type": "code",
   "execution_count": null,
   "metadata": {},
   "outputs": [],
   "source": [
    "fixedImg = np.load(MRI_Path.format(targetIndex))\n",
    "fixedImg = np.expand_dims(fixedImg, axis=-1)\n",
    "fixedImg = fixedImg.astype('float32')\n",
    "def data_generator(batchSize = 1):\n",
    "    while True:\n",
    "        movingImgs = []\n",
    "        fixedImgs = []\n",
    "        for i in range(batchSize):\n",
    "            idx = random.randrange(len(imageIndices))\n",
    "            fileIdx = imageIndices[idx]\n",
    "            movingImg = np.load(MRI_Path.format(fileIdx))\n",
    "            numSlicesToPaddle = maxSlice - movingImg.shape[0]\n",
    "            movingImg = np.pad(movingImg, ((0, numSlicesToPaddle), (0, 0), (0, 0)))\n",
    "            movingImg = np.expand_dims(movingImg, axis=-1)\n",
    "            movingImg = movingImg.astype('float32')\n",
    "            movingImgs.append(movingImg)\n",
    "            fixedImgs.append(fixedImg)\n",
    "        movingImgs = np.array(movingImgs)\n",
    "        fixedImgs = np.array(fixedImgs)\n",
    "        yield (movingImgs, fixedImgs)"
   ]
  },
  {
   "cell_type": "markdown",
   "metadata": {},
   "source": [
    "## Load self-generated training data"
   ]
  },
  {
   "cell_type": "code",
   "execution_count": null,
   "metadata": {},
   "outputs": [],
   "source": [
    "trainDataPath = \"./affineTrainingData/affine{}.npz\"\n",
    "fixedImg = np.load(MRI_Path.format(\"0701\"))\n",
    "fixedImg = np.expand_dims(fixedImg, axis=-1)\n",
    "fixedImg = fixedImg.astype('float32')\n",
    "def data_generator(batchSize = 1):\n",
    "    while True:\n",
    "        movingImgs = []\n",
    "        fixedImgs = []\n",
    "        for i in range(batchSize):\n",
    "            idx = random.randrange(100)\n",
    "            movingImg = np.load(trainDataPath.format(idx))['img']\n",
    "#             numSlicesToPaddle = maxSlice - movingImg.shape[0]\n",
    "#             movingImg = np.pad(movingImg, ((0, numSlicesToPaddle), (0, 0), (0, 0)))\n",
    "#             movingImg = np.expand_dims(movingImg, axis=-1)\n",
    "            movingImg = movingImg.astype('float32')\n",
    "            movingImgs.append(movingImg)\n",
    "            fixedImgs.append(fixedImg)\n",
    "        movingImgs = np.array(movingImgs)\n",
    "        fixedImgs = np.array(fixedImgs)\n",
    "        yield (movingImgs, fixedImgs)"
   ]
  },
  {
   "cell_type": "code",
   "execution_count": 5,
   "metadata": {},
   "outputs": [],
   "source": [
    "trainDataPath = \"./affineTrainingData/affine{}.npz\"\n",
    "fixedImg = np.load(MRI_Path.format(\"0701\"))\n",
    "fixedImg = np.expand_dims(fixedImg, axis=-1)\n",
    "fixedImg = fixedImg.astype('float32')\n",
    "def data_generator(batchSize = 1):\n",
    "    while True:\n",
    "        movingImgs = []\n",
    "        labels = []\n",
    "        for i in range(batchSize):\n",
    "            idx = random.randrange(100)\n",
    "            data = np.load(trainDataPath.format(idx))\n",
    "            movingImg = data[\"img\"]\n",
    "#             numSlicesToPaddle = maxSlice - movingImg.shape[0]\n",
    "#             movingImg = np.pad(movingImg, ((0, numSlicesToPaddle), (0, 0), (0, 0)))\n",
    "#             movingImg = np.expand_dims(movingImg, axis=-1)\n",
    "            movingImg = movingImg.astype('float32')\n",
    "            movingImgs.append(movingImg)\n",
    "            labels.append(data[\"trf\"])\n",
    "        movingImgs = np.array(movingImgs)\n",
    "        labels = np.array(labels)\n",
    "        yield (movingImgs, labels)"
   ]
  },
  {
   "cell_type": "code",
   "execution_count": 11,
   "metadata": {},
   "outputs": [],
   "source": [
    "dataGen = data_generator()"
   ]
  },
  {
   "cell_type": "code",
   "execution_count": null,
   "metadata": {
    "scrolled": true
   },
   "outputs": [],
   "source": [
    "# Construct NN\n",
    "# nFeats = 1\n",
    "# for i in range(len(fixedImg.shape)):\n",
    "#     nFeats *= fixedImg.shape[i]\n",
    "# print(nFeats)\n",
    "inputs = keras.Input(shape = fixedImg.shape)\n",
    "print(inputs.shape)\n",
    "conv_0 = layers.Conv3D(filters=2, kernel_size=(3, 10, 10), activation=\"relu\")(inputs)\n",
    "conv_1 = layers.Conv3D(filters=3, kernel_size=(3, 15, 15), activation=\"relu\")(conv_0)\n",
    "filtered_conv_1 = layers.MaxPool3D((2, 2, 2))(conv_1)\n",
    "conv_2 = layers.Conv3D(filters=4, kernel_size=(3, 15, 15), activation=\"relu\")(filtered_conv_1)\n",
    "filtered_conv_2 = layers.MaxPool3D((1, 2, 2))(conv_2)\n",
    "print(filtered_conv_2.shape)\n",
    "conv_3 = layers.Conv3D(filters=2, kernel_size=(6, 20, 20), activation=\"relu\")(filtered_conv_2)\n",
    "conv_4 = layers.Conv3D(filters=1, kernel_size=(6, 10, 10), activation=\"relu\")(conv_3)\n",
    "print(conv_4.shape)\n",
    "flattened = layers.Flatten()(conv_4)\n",
    "print(flattened.shape)\n",
    "dense_0 = layers.Dense(256, activation=\"relu\")(flattened)\n",
    "affine_pred = layers.Dense(12, activation=\"relu\")(dense_0)\n",
    "warped = custom_layers.SpatialTransformer(interp_method='linear')([inputs, affine_pred])\n",
    "print(warped.shape)"
   ]
  },
  {
   "cell_type": "code",
   "execution_count": 6,
   "metadata": {},
   "outputs": [
    {
     "name": "stdout",
     "output_type": "stream",
     "text": [
      "(None, 52, 256, 256, 1)\n",
      "(None, 22, 51, 51, 4)\n",
      "(None, 12, 23, 23, 1)\n",
      "(None, 6348)\n"
     ]
    }
   ],
   "source": [
    "# Construct NN\n",
    "# nFeats = 1\n",
    "# for i in range(len(fixedImg.shape)):\n",
    "#     nFeats *= fixedImg.shape[i]\n",
    "# print(nFeats)\n",
    "inputs = keras.Input(shape = fixedImg.shape)\n",
    "print(inputs.shape)\n",
    "conv_0 = layers.Conv3D(filters=2, kernel_size=(3, 10, 10), activation=\"relu\")(inputs)\n",
    "conv_1 = layers.Conv3D(filters=3, kernel_size=(3, 15, 15), activation=\"relu\")(conv_0)\n",
    "filtered_conv_1 = layers.MaxPool3D((2, 2, 2))(conv_1)\n",
    "conv_2 = layers.Conv3D(filters=4, kernel_size=(3, 15, 15), activation=\"relu\")(filtered_conv_1)\n",
    "filtered_conv_2 = layers.MaxPool3D((1, 2, 2))(conv_2)\n",
    "print(filtered_conv_2.shape)\n",
    "conv_3 = layers.Conv3D(filters=2, kernel_size=(6, 20, 20), activation=\"relu\")(filtered_conv_2)\n",
    "conv_4 = layers.Conv3D(filters=1, kernel_size=(6, 10, 10), activation=\"relu\")(conv_3)\n",
    "print(conv_4.shape)\n",
    "flattened = layers.Flatten()(conv_4)\n",
    "print(flattened.shape)\n",
    "dense_0 = layers.Dense(256, activation=\"relu\")(flattened)\n",
    "affine_pred = layers.Dense(12, activation=\"relu\")(dense_0)"
   ]
  },
  {
   "cell_type": "code",
   "execution_count": 7,
   "metadata": {
    "scrolled": false
   },
   "outputs": [
    {
     "name": "stdout",
     "output_type": "stream",
     "text": [
      "Model: \"affine_model\"\n",
      "_________________________________________________________________\n",
      "Layer (type)                 Output Shape              Param #   \n",
      "=================================================================\n",
      "input_1 (InputLayer)         [(None, 52, 256, 256, 1)] 0         \n",
      "_________________________________________________________________\n",
      "conv3d (Conv3D)              (None, 50, 247, 247, 2)   602       \n",
      "_________________________________________________________________\n",
      "conv3d_1 (Conv3D)            (None, 48, 233, 233, 3)   4053      \n",
      "_________________________________________________________________\n",
      "max_pooling3d (MaxPooling3D) (None, 24, 116, 116, 3)   0         \n",
      "_________________________________________________________________\n",
      "conv3d_2 (Conv3D)            (None, 22, 102, 102, 4)   8104      \n",
      "_________________________________________________________________\n",
      "max_pooling3d_1 (MaxPooling3 (None, 22, 51, 51, 4)     0         \n",
      "_________________________________________________________________\n",
      "conv3d_3 (Conv3D)            (None, 17, 32, 32, 2)     19202     \n",
      "_________________________________________________________________\n",
      "conv3d_4 (Conv3D)            (None, 12, 23, 23, 1)     1201      \n",
      "_________________________________________________________________\n",
      "flatten (Flatten)            (None, 6348)              0         \n",
      "_________________________________________________________________\n",
      "dense (Dense)                (None, 256)               1625344   \n",
      "_________________________________________________________________\n",
      "dense_1 (Dense)              (None, 12)                3084      \n",
      "=================================================================\n",
      "Total params: 1,661,590\n",
      "Trainable params: 1,661,590\n",
      "Non-trainable params: 0\n",
      "_________________________________________________________________\n"
     ]
    }
   ],
   "source": [
    "model = keras.Model(inputs=inputs, outputs=affine_pred, name=\"affine_model\")\n",
    "model.summary()"
   ]
  },
  {
   "cell_type": "code",
   "execution_count": 8,
   "metadata": {},
   "outputs": [],
   "source": [
    "lr = 0.001\n",
    "optimizer = tf.keras.optimizers.Adam(learning_rate = lr)\n",
    "loss_object = tf.keras.losses.MeanSquaredError()\n",
    "\n",
    "loss_history = []\n",
    "save_callback = ModelCheckpoint('./checkpoints/{epoch:02d}.h5')"
   ]
  },
  {
   "cell_type": "code",
   "execution_count": 9,
   "metadata": {},
   "outputs": [],
   "source": [
    "model.compile(optimizer=optimizer, loss=loss_object)"
   ]
  },
  {
   "cell_type": "code",
   "execution_count": 12,
   "metadata": {
    "scrolled": false
   },
   "outputs": [
    {
     "name": "stdout",
     "output_type": "stream",
     "text": [
      "Epoch 1/50\n",
      " 7/50 [===>..........................] - ETA: 21:31 - loss: 44.8238"
     ]
    },
    {
     "ename": "KeyboardInterrupt",
     "evalue": "",
     "output_type": "error",
     "traceback": [
      "\u001b[0;31m---------------------------------------------------------------------------\u001b[0m",
      "\u001b[0;31mKeyboardInterrupt\u001b[0m                         Traceback (most recent call last)",
      "\u001b[0;32m<ipython-input-12-71d50fd98141>\u001b[0m in \u001b[0;36m<module>\u001b[0;34m\u001b[0m\n\u001b[0;32m----> 1\u001b[0;31m \u001b[0mmodel\u001b[0m\u001b[0;34m.\u001b[0m\u001b[0mfit\u001b[0m\u001b[0;34m(\u001b[0m\u001b[0mdataGen\u001b[0m\u001b[0;34m,\u001b[0m \u001b[0mepochs\u001b[0m\u001b[0;34m=\u001b[0m\u001b[0;36m50\u001b[0m\u001b[0;34m,\u001b[0m \u001b[0msteps_per_epoch\u001b[0m\u001b[0;34m=\u001b[0m\u001b[0;36m50\u001b[0m\u001b[0;34m,\u001b[0m \u001b[0mcallbacks\u001b[0m\u001b[0;34m=\u001b[0m\u001b[0;34m[\u001b[0m\u001b[0msave_callback\u001b[0m\u001b[0;34m]\u001b[0m\u001b[0;34m)\u001b[0m\u001b[0;34m\u001b[0m\u001b[0;34m\u001b[0m\u001b[0m\n\u001b[0m",
      "\u001b[0;32m~/opt/anaconda3/lib/python3.8/site-packages/tensorflow/python/keras/engine/training.py\u001b[0m in \u001b[0;36mfit\u001b[0;34m(self, x, y, batch_size, epochs, verbose, callbacks, validation_split, validation_data, shuffle, class_weight, sample_weight, initial_epoch, steps_per_epoch, validation_steps, validation_batch_size, validation_freq, max_queue_size, workers, use_multiprocessing)\u001b[0m\n\u001b[1;32m   1098\u001b[0m                 _r=1):\n\u001b[1;32m   1099\u001b[0m               \u001b[0mcallbacks\u001b[0m\u001b[0;34m.\u001b[0m\u001b[0mon_train_batch_begin\u001b[0m\u001b[0;34m(\u001b[0m\u001b[0mstep\u001b[0m\u001b[0;34m)\u001b[0m\u001b[0;34m\u001b[0m\u001b[0;34m\u001b[0m\u001b[0m\n\u001b[0;32m-> 1100\u001b[0;31m               \u001b[0mtmp_logs\u001b[0m \u001b[0;34m=\u001b[0m \u001b[0mself\u001b[0m\u001b[0;34m.\u001b[0m\u001b[0mtrain_function\u001b[0m\u001b[0;34m(\u001b[0m\u001b[0miterator\u001b[0m\u001b[0;34m)\u001b[0m\u001b[0;34m\u001b[0m\u001b[0;34m\u001b[0m\u001b[0m\n\u001b[0m\u001b[1;32m   1101\u001b[0m               \u001b[0;32mif\u001b[0m \u001b[0mdata_handler\u001b[0m\u001b[0;34m.\u001b[0m\u001b[0mshould_sync\u001b[0m\u001b[0;34m:\u001b[0m\u001b[0;34m\u001b[0m\u001b[0;34m\u001b[0m\u001b[0m\n\u001b[1;32m   1102\u001b[0m                 \u001b[0mcontext\u001b[0m\u001b[0;34m.\u001b[0m\u001b[0masync_wait\u001b[0m\u001b[0;34m(\u001b[0m\u001b[0;34m)\u001b[0m\u001b[0;34m\u001b[0m\u001b[0;34m\u001b[0m\u001b[0m\n",
      "\u001b[0;32m~/opt/anaconda3/lib/python3.8/site-packages/tensorflow/python/eager/def_function.py\u001b[0m in \u001b[0;36m__call__\u001b[0;34m(self, *args, **kwds)\u001b[0m\n\u001b[1;32m    826\u001b[0m     \u001b[0mtracing_count\u001b[0m \u001b[0;34m=\u001b[0m \u001b[0mself\u001b[0m\u001b[0;34m.\u001b[0m\u001b[0mexperimental_get_tracing_count\u001b[0m\u001b[0;34m(\u001b[0m\u001b[0;34m)\u001b[0m\u001b[0;34m\u001b[0m\u001b[0;34m\u001b[0m\u001b[0m\n\u001b[1;32m    827\u001b[0m     \u001b[0;32mwith\u001b[0m \u001b[0mtrace\u001b[0m\u001b[0;34m.\u001b[0m\u001b[0mTrace\u001b[0m\u001b[0;34m(\u001b[0m\u001b[0mself\u001b[0m\u001b[0;34m.\u001b[0m\u001b[0m_name\u001b[0m\u001b[0;34m)\u001b[0m \u001b[0;32mas\u001b[0m \u001b[0mtm\u001b[0m\u001b[0;34m:\u001b[0m\u001b[0;34m\u001b[0m\u001b[0;34m\u001b[0m\u001b[0m\n\u001b[0;32m--> 828\u001b[0;31m       \u001b[0mresult\u001b[0m \u001b[0;34m=\u001b[0m \u001b[0mself\u001b[0m\u001b[0;34m.\u001b[0m\u001b[0m_call\u001b[0m\u001b[0;34m(\u001b[0m\u001b[0;34m*\u001b[0m\u001b[0margs\u001b[0m\u001b[0;34m,\u001b[0m \u001b[0;34m**\u001b[0m\u001b[0mkwds\u001b[0m\u001b[0;34m)\u001b[0m\u001b[0;34m\u001b[0m\u001b[0;34m\u001b[0m\u001b[0m\n\u001b[0m\u001b[1;32m    829\u001b[0m       \u001b[0mcompiler\u001b[0m \u001b[0;34m=\u001b[0m \u001b[0;34m\"xla\"\u001b[0m \u001b[0;32mif\u001b[0m \u001b[0mself\u001b[0m\u001b[0;34m.\u001b[0m\u001b[0m_experimental_compile\u001b[0m \u001b[0;32melse\u001b[0m \u001b[0;34m\"nonXla\"\u001b[0m\u001b[0;34m\u001b[0m\u001b[0;34m\u001b[0m\u001b[0m\n\u001b[1;32m    830\u001b[0m       \u001b[0mnew_tracing_count\u001b[0m \u001b[0;34m=\u001b[0m \u001b[0mself\u001b[0m\u001b[0;34m.\u001b[0m\u001b[0mexperimental_get_tracing_count\u001b[0m\u001b[0;34m(\u001b[0m\u001b[0;34m)\u001b[0m\u001b[0;34m\u001b[0m\u001b[0;34m\u001b[0m\u001b[0m\n",
      "\u001b[0;32m~/opt/anaconda3/lib/python3.8/site-packages/tensorflow/python/eager/def_function.py\u001b[0m in \u001b[0;36m_call\u001b[0;34m(self, *args, **kwds)\u001b[0m\n\u001b[1;32m    853\u001b[0m       \u001b[0;31m# In this case we have created variables on the first call, so we run the\u001b[0m\u001b[0;34m\u001b[0m\u001b[0;34m\u001b[0m\u001b[0;34m\u001b[0m\u001b[0m\n\u001b[1;32m    854\u001b[0m       \u001b[0;31m# defunned version which is guaranteed to never create variables.\u001b[0m\u001b[0;34m\u001b[0m\u001b[0;34m\u001b[0m\u001b[0;34m\u001b[0m\u001b[0m\n\u001b[0;32m--> 855\u001b[0;31m       \u001b[0;32mreturn\u001b[0m \u001b[0mself\u001b[0m\u001b[0;34m.\u001b[0m\u001b[0m_stateless_fn\u001b[0m\u001b[0;34m(\u001b[0m\u001b[0;34m*\u001b[0m\u001b[0margs\u001b[0m\u001b[0;34m,\u001b[0m \u001b[0;34m**\u001b[0m\u001b[0mkwds\u001b[0m\u001b[0;34m)\u001b[0m  \u001b[0;31m# pylint: disable=not-callable\u001b[0m\u001b[0;34m\u001b[0m\u001b[0;34m\u001b[0m\u001b[0m\n\u001b[0m\u001b[1;32m    856\u001b[0m     \u001b[0;32melif\u001b[0m \u001b[0mself\u001b[0m\u001b[0;34m.\u001b[0m\u001b[0m_stateful_fn\u001b[0m \u001b[0;32mis\u001b[0m \u001b[0;32mnot\u001b[0m \u001b[0;32mNone\u001b[0m\u001b[0;34m:\u001b[0m\u001b[0;34m\u001b[0m\u001b[0;34m\u001b[0m\u001b[0m\n\u001b[1;32m    857\u001b[0m       \u001b[0;31m# Release the lock early so that multiple threads can perform the call\u001b[0m\u001b[0;34m\u001b[0m\u001b[0;34m\u001b[0m\u001b[0;34m\u001b[0m\u001b[0m\n",
      "\u001b[0;32m~/opt/anaconda3/lib/python3.8/site-packages/tensorflow/python/eager/function.py\u001b[0m in \u001b[0;36m__call__\u001b[0;34m(self, *args, **kwargs)\u001b[0m\n\u001b[1;32m   2940\u001b[0m       (graph_function,\n\u001b[1;32m   2941\u001b[0m        filtered_flat_args) = self._maybe_define_function(args, kwargs)\n\u001b[0;32m-> 2942\u001b[0;31m     return graph_function._call_flat(\n\u001b[0m\u001b[1;32m   2943\u001b[0m         filtered_flat_args, captured_inputs=graph_function.captured_inputs)  # pylint: disable=protected-access\n\u001b[1;32m   2944\u001b[0m \u001b[0;34m\u001b[0m\u001b[0m\n",
      "\u001b[0;32m~/opt/anaconda3/lib/python3.8/site-packages/tensorflow/python/eager/function.py\u001b[0m in \u001b[0;36m_call_flat\u001b[0;34m(self, args, captured_inputs, cancellation_manager)\u001b[0m\n\u001b[1;32m   1916\u001b[0m         and executing_eagerly):\n\u001b[1;32m   1917\u001b[0m       \u001b[0;31m# No tape is watching; skip to running the function.\u001b[0m\u001b[0;34m\u001b[0m\u001b[0;34m\u001b[0m\u001b[0;34m\u001b[0m\u001b[0m\n\u001b[0;32m-> 1918\u001b[0;31m       return self._build_call_outputs(self._inference_function.call(\n\u001b[0m\u001b[1;32m   1919\u001b[0m           ctx, args, cancellation_manager=cancellation_manager))\n\u001b[1;32m   1920\u001b[0m     forward_backward = self._select_forward_and_backward_functions(\n",
      "\u001b[0;32m~/opt/anaconda3/lib/python3.8/site-packages/tensorflow/python/eager/function.py\u001b[0m in \u001b[0;36mcall\u001b[0;34m(self, ctx, args, cancellation_manager)\u001b[0m\n\u001b[1;32m    553\u001b[0m       \u001b[0;32mwith\u001b[0m \u001b[0m_InterpolateFunctionError\u001b[0m\u001b[0;34m(\u001b[0m\u001b[0mself\u001b[0m\u001b[0;34m)\u001b[0m\u001b[0;34m:\u001b[0m\u001b[0;34m\u001b[0m\u001b[0;34m\u001b[0m\u001b[0m\n\u001b[1;32m    554\u001b[0m         \u001b[0;32mif\u001b[0m \u001b[0mcancellation_manager\u001b[0m \u001b[0;32mis\u001b[0m \u001b[0;32mNone\u001b[0m\u001b[0;34m:\u001b[0m\u001b[0;34m\u001b[0m\u001b[0;34m\u001b[0m\u001b[0m\n\u001b[0;32m--> 555\u001b[0;31m           outputs = execute.execute(\n\u001b[0m\u001b[1;32m    556\u001b[0m               \u001b[0mstr\u001b[0m\u001b[0;34m(\u001b[0m\u001b[0mself\u001b[0m\u001b[0;34m.\u001b[0m\u001b[0msignature\u001b[0m\u001b[0;34m.\u001b[0m\u001b[0mname\u001b[0m\u001b[0;34m)\u001b[0m\u001b[0;34m,\u001b[0m\u001b[0;34m\u001b[0m\u001b[0;34m\u001b[0m\u001b[0m\n\u001b[1;32m    557\u001b[0m               \u001b[0mnum_outputs\u001b[0m\u001b[0;34m=\u001b[0m\u001b[0mself\u001b[0m\u001b[0;34m.\u001b[0m\u001b[0m_num_outputs\u001b[0m\u001b[0;34m,\u001b[0m\u001b[0;34m\u001b[0m\u001b[0;34m\u001b[0m\u001b[0m\n",
      "\u001b[0;32m~/opt/anaconda3/lib/python3.8/site-packages/tensorflow/python/eager/execute.py\u001b[0m in \u001b[0;36mquick_execute\u001b[0;34m(op_name, num_outputs, inputs, attrs, ctx, name)\u001b[0m\n\u001b[1;32m     57\u001b[0m   \u001b[0;32mtry\u001b[0m\u001b[0;34m:\u001b[0m\u001b[0;34m\u001b[0m\u001b[0;34m\u001b[0m\u001b[0m\n\u001b[1;32m     58\u001b[0m     \u001b[0mctx\u001b[0m\u001b[0;34m.\u001b[0m\u001b[0mensure_initialized\u001b[0m\u001b[0;34m(\u001b[0m\u001b[0;34m)\u001b[0m\u001b[0;34m\u001b[0m\u001b[0;34m\u001b[0m\u001b[0m\n\u001b[0;32m---> 59\u001b[0;31m     tensors = pywrap_tfe.TFE_Py_Execute(ctx._handle, device_name, op_name,\n\u001b[0m\u001b[1;32m     60\u001b[0m                                         inputs, attrs, num_outputs)\n\u001b[1;32m     61\u001b[0m   \u001b[0;32mexcept\u001b[0m \u001b[0mcore\u001b[0m\u001b[0;34m.\u001b[0m\u001b[0m_NotOkStatusException\u001b[0m \u001b[0;32mas\u001b[0m \u001b[0me\u001b[0m\u001b[0;34m:\u001b[0m\u001b[0;34m\u001b[0m\u001b[0;34m\u001b[0m\u001b[0m\n",
      "\u001b[0;31mKeyboardInterrupt\u001b[0m: "
     ]
    }
   ],
   "source": [
    "model.fit(dataGen, epochs=50, steps_per_epoch=50, callbacks=[save_callback])"
   ]
  },
  {
   "cell_type": "code",
   "execution_count": null,
   "metadata": {},
   "outputs": [],
   "source": [
    "'''\n",
    "Training step for each epoch\n",
    "'''\n",
    "def train_step(movingImages, fixedImages):\n",
    "  with tf.GradientTape() as tape:\n",
    "    warpedImages = model(movingImages, training=True)\n",
    "\n",
    "    # Add asserts to check the shape of the output.\n",
    "    #tf.debugging.assert_equal(logits.shape, (32, 10))\n",
    "\n",
    "    loss_value = loss_object(warpedImages, fixedImages)\n",
    "\n",
    "  loss_history.append(loss_value.numpy().mean())\n",
    "  grads = tape.gradient(loss_value, model.trainable_variables)\n",
    "  optimizer.apply_gradients(zip(grads, model.trainable_variables))"
   ]
  },
  {
   "cell_type": "code",
   "execution_count": null,
   "metadata": {},
   "outputs": [],
   "source": [
    "def train(epochs):\n",
    "  for epoch in range(epochs):\n",
    "    for (batch, (movingImages, fixedImages)) in enumerate(dataset):\n",
    "        movingImages = movingImages[np.newaxis,...]\n",
    "        fixedImages = fixedImages[np.newaxis,...]\n",
    "        train_step(movingImages, fixedImages)\n",
    "    print ('Epoch {} finished. Current loss value: {}'.format(epoch, loss_history[-1]))\n",
    "    model.save_weights('./checkpoints/epoch_{}'.format(epoch))"
   ]
  },
  {
   "cell_type": "code",
   "execution_count": null,
   "metadata": {},
   "outputs": [],
   "source": [
    "epochs = 50\n",
    "train(epochs)"
   ]
  },
  {
   "cell_type": "code",
   "execution_count": null,
   "metadata": {},
   "outputs": [],
   "source": [
    "testModel = keras.Model(inputs=inputs, outputs=warped)"
   ]
  },
  {
   "cell_type": "code",
   "execution_count": null,
   "metadata": {},
   "outputs": [],
   "source": [
    "# testModel.load_weights('./checkpoints/epoch_{}'.format(epochs-1))\n",
    "testModel.load_weights('./checkpoints/50.h5')"
   ]
  },
  {
   "cell_type": "code",
   "execution_count": null,
   "metadata": {},
   "outputs": [],
   "source": [
    "warped_test = testModel(next(dataGen)[0])"
   ]
  },
  {
   "cell_type": "code",
   "execution_count": null,
   "metadata": {
    "scrolled": true
   },
   "outputs": [],
   "source": [
    "print(warped_test.shape)"
   ]
  },
  {
   "cell_type": "code",
   "execution_count": null,
   "metadata": {
    "scrolled": false
   },
   "outputs": [],
   "source": [
    "sliceToCheck = 10\n",
    "fig, axs = plt.subplots(1, 2, figsize=(15, 15))\n",
    "axs[0].imshow(fixedImg[sliceToCheck,:,:,0])\n",
    "axs[0].set_title(\"Fixed Image\")\n",
    "# axs[1].imshow(movingImgs[0,sliceToCheck,:,:,0])\n",
    "# axs[1].set_title(\"Moving Image\")\n",
    "axs[1].imshow(warped_test[0,sliceToCheck,:,:,0])\n",
    "axs[1].set_title(\"Warped Image\")\n",
    "plt.show()"
   ]
  },
  {
   "cell_type": "code",
   "execution_count": null,
   "metadata": {},
   "outputs": [],
   "source": [
    "fig, ax = plt.subplots()\n",
    "ax.plot(range(len(loss_history)), loss_history)"
   ]
  },
  {
   "cell_type": "code",
   "execution_count": null,
   "metadata": {},
   "outputs": [],
   "source": [
    "n = np.array([1., 2., 4.])\n",
    "t = tf.constant(n)\n",
    "print(t.shape)\n",
    "print(t.shape.as_list())"
   ]
  },
  {
   "cell_type": "code",
   "execution_count": null,
   "metadata": {},
   "outputs": [],
   "source": []
  },
  {
   "cell_type": "code",
   "execution_count": null,
   "metadata": {},
   "outputs": [],
   "source": []
  }
 ],
 "metadata": {
  "kernelspec": {
   "display_name": "Python 3",
   "language": "python",
   "name": "python3"
  },
  "language_info": {
   "codemirror_mode": {
    "name": "ipython",
    "version": 3
   },
   "file_extension": ".py",
   "mimetype": "text/x-python",
   "name": "python",
   "nbconvert_exporter": "python",
   "pygments_lexer": "ipython3",
   "version": "3.8.5"
  }
 },
 "nbformat": 4,
 "nbformat_minor": 4
}
